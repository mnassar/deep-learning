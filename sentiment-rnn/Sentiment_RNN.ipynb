{
 "cells": [
  {
   "cell_type": "markdown",
   "metadata": {},
   "source": [
    "# Sentiment Analysis with an RNN\n",
    "\n",
    "In this notebook, you'll implement a recurrent neural network that performs sentiment analysis. Using an RNN rather than a feedfoward network is more accurate since we can include information about the *sequence* of words. Here we'll use a dataset of movie reviews, accompanied by labels.\n",
    "\n",
    "The architecture for this network is shown below.\n",
    "\n",
    "<img src=\"assets/network_diagram.png\" width=400px>\n",
    "\n",
    "Here, we'll pass in words to an embedding layer. We need an embedding layer because we have tens of thousands of words, so we'll need a more efficient representation for our input data than one-hot encoded vectors. You should have seen this before from the word2vec lesson. You can actually train up an embedding with word2vec and use it here. But it's good enough to just have an embedding layer and let the network learn the embedding table on it's own.\n",
    "\n",
    "From the embedding layer, the new representations will be passed to LSTM cells. These will add recurrent connections to the network so we can include information about the sequence of words in the data. Finally, the LSTM cells will go to a sigmoid output layer here. We're using the sigmoid because we're trying to predict if this text has positive or negative sentiment. The output layer will just be a single unit then, with a sigmoid activation function.\n",
    "\n",
    "We don't care about the sigmoid outputs except for the very last one, we can ignore the rest. We'll calculate the cost from the output of the last step and the training label."
   ]
  },
  {
   "cell_type": "code",
   "execution_count": 1,
   "metadata": {
    "collapsed": true
   },
   "outputs": [],
   "source": [
    "import numpy as np\n",
    "import tensorflow as tf"
   ]
  },
  {
   "cell_type": "code",
   "execution_count": 2,
   "metadata": {
    "collapsed": true
   },
   "outputs": [],
   "source": [
    "with open('../sentiment-network/reviews.txt', 'r') as f:\n",
    "    reviews = f.read()\n",
    "with open('../sentiment-network/labels.txt', 'r') as f:\n",
    "    labels = f.read()"
   ]
  },
  {
   "cell_type": "code",
   "execution_count": 3,
   "metadata": {},
   "outputs": [
    {
     "data": {
      "text/plain": [
       "'bromwell high is a cartoon comedy . it ran at the same time as some other programs about school life  such as  teachers  . my   years in the teaching profession lead me to believe that bromwell high  s satire is much closer to reality than is  teachers  . the scramble to survive financially  the insightful students who can see right through their pathetic teachers  pomp  the pettiness of the whole situation  all remind me of the schools i knew and their students . when i saw the episode in which a student repeatedly tried to burn down the school  i immediately recalled . . . . . . . . . at . . . . . . . . . . high . a classic line inspector i  m here to sack one of your teachers . student welcome to bromwell high . i expect that many adults of my age think that bromwell high is far fetched . what a pity that it isn  t   \\nstory of a man who has unnatural feelings for a pig . starts out with a opening scene that is a terrific example of absurd comedy . a formal orchestra audience is turned into an insane  violent mob by the crazy chantings of it  s singers . unfortunately it stays absurd the whole time with no general narrative eventually making it just too off putting . even those from the era should be turned off . the cryptic dialogue would make shakespeare seem easy to a third grader . on a technical level it  s better than you might think with some good cinematography by future great vilmos zsigmond . future stars sally kirkland and frederic forrest can be seen briefly .  \\nhomelessness  or houselessness as george carlin stated  has been an issue for years but never a plan to help those on the street that were once considered human who did everything from going to school  work  or vote for the matter . most people think of the homeless as just a lost cause while worrying about things such as racism  the war on iraq  pressuring kids to succeed  technology  the elections  inflation  or worrying if they  ll be next to end up on the streets .  br    br   but what if y'"
      ]
     },
     "execution_count": 3,
     "metadata": {},
     "output_type": "execute_result"
    }
   ],
   "source": [
    "reviews[:2000]"
   ]
  },
  {
   "cell_type": "markdown",
   "metadata": {},
   "source": [
    "## Data preprocessing\n",
    "\n",
    "The first step when building a neural network model is getting your data into the proper form to feed into the network. Since we're using embedding layers, we'll need to encode each word with an integer. We'll also want to clean it up a bit.\n",
    "\n",
    "You can see an example of the reviews data above. We'll want to get rid of those periods. Also, you might notice that the reviews are delimited with newlines `\\n`. To deal with those, I'm going to split the text into each review using `\\n` as the delimiter. Then I can combined all the reviews back together into one big string.\n",
    "\n",
    "First, let's remove all punctuation. Then get all the text without the newlines and split it into individual words."
   ]
  },
  {
   "cell_type": "code",
   "execution_count": 4,
   "metadata": {
    "collapsed": true
   },
   "outputs": [],
   "source": [
    "from string import punctuation\n",
    "all_text = ''.join([c for c in reviews if c not in punctuation])\n",
    "reviews = all_text.split('\\n')\n",
    "\n",
    "all_text = ' '.join(reviews)\n",
    "words = all_text.split()"
   ]
  },
  {
   "cell_type": "code",
   "execution_count": 5,
   "metadata": {},
   "outputs": [
    {
     "data": {
      "text/plain": [
       "'bromwell high is a cartoon comedy  it ran at the same time as some other programs about school life  such as  teachers   my   years in the teaching profession lead me to believe that bromwell high  s satire is much closer to reality than is  teachers   the scramble to survive financially  the insightful students who can see right through their pathetic teachers  pomp  the pettiness of the whole situation  all remind me of the schools i knew and their students  when i saw the episode in which a student repeatedly tried to burn down the school  i immediately recalled          at           high  a classic line inspector i  m here to sack one of your teachers  student welcome to bromwell high  i expect that many adults of my age think that bromwell high is far fetched  what a pity that it isn  t    story of a man who has unnatural feelings for a pig  starts out with a opening scene that is a terrific example of absurd comedy  a formal orchestra audience is turned into an insane  violent mob by the crazy chantings of it  s singers  unfortunately it stays absurd the whole time with no general narrative eventually making it just too off putting  even those from the era should be turned off  the cryptic dialogue would make shakespeare seem easy to a third grader  on a technical level it  s better than you might think with some good cinematography by future great vilmos zsigmond  future stars sally kirkland and frederic forrest can be seen briefly    homelessness  or houselessness as george carlin stated  has been an issue for years but never a plan to help those on the street that were once considered human who did everything from going to school  work  or vote for the matter  most people think of the homeless as just a lost cause while worrying about things such as racism  the war on iraq  pressuring kids to succeed  technology  the elections  inflation  or worrying if they  ll be next to end up on the streets   br    br   but what if you were given a bet to live on the st'"
      ]
     },
     "execution_count": 5,
     "metadata": {},
     "output_type": "execute_result"
    }
   ],
   "source": [
    "all_text[:2000]"
   ]
  },
  {
   "cell_type": "code",
   "execution_count": 6,
   "metadata": {},
   "outputs": [
    {
     "data": {
      "text/plain": [
       "74072"
      ]
     },
     "execution_count": 6,
     "metadata": {},
     "output_type": "execute_result"
    }
   ],
   "source": [
    "words[:100]\n",
    "len(set(words))"
   ]
  },
  {
   "cell_type": "markdown",
   "metadata": {},
   "source": [
    "### Encoding the words\n",
    "\n",
    "The embedding lookup requires that we pass in integers to our network. The easiest way to do this is to create dictionaries that map the words in the vocabulary to integers. Then we can convert each of our reviews into integers so they can be passed into the network.\n",
    "\n",
    "> **Exercise:** Now you're going to encode the words with integers. Build a dictionary that maps words to integers. Later we're going to pad our input vectors with zeros, so make sure the integers **start at 1, not 0**.\n",
    "> Also, convert the reviews to integers and store the reviews in a new list called `reviews_ints`. "
   ]
  },
  {
   "cell_type": "code",
   "execution_count": 7,
   "metadata": {
    "collapsed": true
   },
   "outputs": [],
   "source": [
    "# Create your dictionary that maps vocab words to integers here\n",
    "vocab_to_int = {j:i+1 for (i, j) in enumerate(set(words))}\n",
    "#vocab_to_int['bromwell']\n",
    "# Convert the reviews to integers, same shape as reviews list, but with integers\n",
    "reviews_ints = [ [vocab_to_int[x] for x in r.split()] for r in reviews ]\n",
    "#reviews_ints[0]"
   ]
  },
  {
   "cell_type": "markdown",
   "metadata": {},
   "source": [
    "### Encoding the labels\n",
    "\n",
    "Our labels are \"positive\" or \"negative\". To use these labels in our network, we need to convert them to 0 and 1.\n",
    "\n",
    "> **Exercise:** Convert labels from `positive` and `negative` to 1 and 0, respectively."
   ]
  },
  {
   "cell_type": "code",
   "execution_count": 8,
   "metadata": {},
   "outputs": [
    {
     "data": {
      "text/plain": [
       "25001"
      ]
     },
     "execution_count": 8,
     "metadata": {},
     "output_type": "execute_result"
    }
   ],
   "source": [
    "# Convert labels to 1s and 0s for 'positive' and 'negative'\n",
    "labels = [ 0 if x == \"negative\" else 1 for x in labels.split('\\n')]\n",
    "#print ( labels.split('\\n')[10:20] ) \n",
    "#l[10:20]\n",
    "len(labels)"
   ]
  },
  {
   "cell_type": "code",
   "execution_count": 9,
   "metadata": {},
   "outputs": [
    {
     "data": {
      "text/plain": [
       "25001"
      ]
     },
     "execution_count": 9,
     "metadata": {},
     "output_type": "execute_result"
    }
   ],
   "source": [
    "labels[:5]\n",
    "len(reviews_ints)"
   ]
  },
  {
   "cell_type": "markdown",
   "metadata": {},
   "source": [
    "If you built `labels` correctly, you should see the next output."
   ]
  },
  {
   "cell_type": "code",
   "execution_count": 10,
   "metadata": {},
   "outputs": [
    {
     "name": "stdout",
     "output_type": "stream",
     "text": [
      "Zero-length reviews: 1\n",
      "Maximum review length: 2514\n"
     ]
    }
   ],
   "source": [
    "from collections import Counter\n",
    "review_lens = Counter([len(x) for x in reviews_ints])\n",
    "print(\"Zero-length reviews: {}\".format(review_lens[0]))\n",
    "print(\"Maximum review length: {}\".format(max(review_lens)))"
   ]
  },
  {
   "cell_type": "markdown",
   "metadata": {},
   "source": [
    "Okay, a couple issues here. We seem to have one review with zero length. And, the maximum review length is way too many steps for our RNN. Let's truncate to 200 steps. For reviews shorter than 200, we'll pad with 0s. For reviews longer than 200, we can truncate them to the first 200 characters.\n",
    "\n",
    "> **Exercise:** First, remove the review with zero length from the `reviews_ints` list."
   ]
  },
  {
   "cell_type": "code",
   "execution_count": 11,
   "metadata": {},
   "outputs": [
    {
     "name": "stdout",
     "output_type": "stream",
     "text": [
      "25001\n",
      "25000\n",
      "[]\n"
     ]
    }
   ],
   "source": [
    "# Filter out that review with 0 length\n",
    "print (len(reviews_ints))\n",
    "idx=0\n",
    "for i in range (len (reviews_ints)): \n",
    "    if (len (reviews_ints[i]) == 0):\n",
    "        idx = i\n",
    "        print(idx)\n",
    "        print (reviews_ints[i])\n",
    "        break \n",
    "reviews_ints.remove(reviews_ints[idx])\n",
    "labels.remove(labels[idx])\n",
    "#reviews_ints = list (filter (lambda x: len(x)!=0, reviews_ints))\n",
    "\n",
    "#print (len(reviews_ints))\n",
    "#print (len(labels))\n",
    "#print (idx)"
   ]
  },
  {
   "cell_type": "markdown",
   "metadata": {},
   "source": [
    "> **Exercise:** Now, create an array `features` that contains the data we'll pass to the network. The data should come from `review_ints`, since we want to feed integers to the network. Each row should be 200 elements long. For reviews shorter than 200 words, left pad with 0s. That is, if the review is `['best', 'movie', 'ever']`, `[117, 18, 128]` as integers, the row will look like `[0, 0, 0, ..., 0, 117, 18, 128]`. For reviews longer than 200, use on the first 200 words as the feature vector.\n",
    "\n",
    "This isn't trivial and there are a bunch of ways to do this. But, if you're going to be building your own deep learning networks, you're going to have to get used to preparing your data.\n",
    "\n"
   ]
  },
  {
   "cell_type": "code",
   "execution_count": 12,
   "metadata": {
    "collapsed": true
   },
   "outputs": [],
   "source": [
    "seq_len = 200\n",
    "features = np.array([x[:seq_len] if len(x) > seq_len else ([0]*(seq_len-len(x))+x) for x in reviews_ints])"
   ]
  },
  {
   "cell_type": "markdown",
   "metadata": {},
   "source": [
    "If you build features correctly, it should look like that cell output below."
   ]
  },
  {
   "cell_type": "code",
   "execution_count": 13,
   "metadata": {},
   "outputs": [
    {
     "data": {
      "text/plain": [
       "array([[    0,     0,     0,     0,     0,     0,     0,     0,     0,\n",
       "            0,     0,     0,     0,     0,     0,     0,     0,     0,\n",
       "            0,     0,     0,     0,     0,     0,     0,     0,     0,\n",
       "            0,     0,     0,     0,     0,     0,     0,     0,     0,\n",
       "            0,     0,     0,     0,     0,     0,     0,     0,     0,\n",
       "            0,     0,     0,     0,     0,     0,     0,     0,     0,\n",
       "            0,     0,     0,     0,     0,     0, 42782, 17966, 35564,\n",
       "        31146, 31559, 13098, 43057, 26449, 38616,  8489, 35878, 49768,\n",
       "        35444, 41508, 65183, 19186, 31695, 38978,  7528, 29107, 35444,\n",
       "        14595, 15035, 12252, 35838,  8489, 59453, 16563,  6798, 15615,\n",
       "        52988, 33113, 55051, 42782, 17966, 46621, 56059, 35564, 42652,\n",
       "        30069],\n",
       "       [    0,     0,     0,     0,     0,     0,     0,     0,     0,\n",
       "            0,     0,     0,     0,     0,     0,     0,     0,     0,\n",
       "            0,     0,     0,     0,     0,     0,     0,     0,     0,\n",
       "            0,     0,     0,     0,     0,     0,     0,     0,     0,\n",
       "            0,     0,     0,     0,     0,     0,     0,     0,     0,\n",
       "            0,     0,     0,     0,     0,     0,     0,     0,     0,\n",
       "            0,     0,     0,     0,     0,     0,     0,     0,     0,\n",
       "            0,     0,     0,     0,     0,     0,     0,     0,     0,\n",
       "            0,     0,     0,     0,     0,     0,     0,     0,     0,\n",
       "            0,     0,     0,     0,     0, 53909, 41574, 31146, 42578,\n",
       "        19101, 60939, 63816, 66753, 16358, 31146, 11263, 10590, 22506,\n",
       "        21480],\n",
       "       [63184, 16368, 69074, 35444, 50650, 48330, 19311, 60939, 20490,\n",
       "        73440,  9493, 16358, 12252,  4324,  4738, 31146, 59333, 52988,\n",
       "        42706,  4251, 61584,  8489,  7437, 55051, 11905, 28265, 63094,\n",
       "        24836, 19101,  7018, 26379, 18053, 72344, 52988, 38978, 55746,\n",
       "        16368, 36186, 16358,  8489,  7653, 68602,  9907, 26316, 41574,\n",
       "         8489, 24463, 35444, 48788, 31146,  5628, 63349, 32393, 59622,\n",
       "        31695,  5279, 29107, 35444, 32060,  8489, 47686, 61584, 29962,\n",
       "        68899, 53441, 52988, 38915, 38052,  8489, 23616, 23600, 16368,\n",
       "        59622, 66981,  7458,  2552, 52016, 14570, 52988, 72901,  9252,\n",
       "        61584,  8489, 15665, 40827, 40827,  4324, 24942, 66981, 65234,\n",
       "        11905, 42656, 31146, 31599, 52988, 72511, 61584,  8489, 15665,\n",
       "        16358],\n",
       "       [33786, 10590, 35444, 31146, 73116, 29001, 32339, 73616, 35564,\n",
       "        34206,  9252, 21480, 48953, 66334, 29107, 30340, 52988,  5879,\n",
       "        36117,  3048, 50508, 34735, 21750, 19101, 35564, 29040, 31520,\n",
       "        31146, 20077, 41574, 16843, 46621, 52988, 31672, 36675, 35838,\n",
       "        27621, 41574, 43057, 56131, 62022, 52988,  8489, 15617, 35444,\n",
       "        31146, 28866,  1670, 61584,  4446, 35564, 50508, 62915, 21802,\n",
       "          670, 17639, 67443, 36251,  8489, 32339, 12981, 32205, 36984,\n",
       "        35444,   739,  4324, 17545, 44411,  8489, 73616, 35564, 48669,\n",
       "        63328, 41063,  8489,  2546, 65667, 43254, 47387,  2630, 31672,\n",
       "        30191, 37967, 46621, 44233, 73213, 22952, 72664, 21879, 65401,\n",
       "        19101,    84,  8489,  3333, 45277, 22506, 21480, 57035,  4616,\n",
       "         7458],\n",
       "       [    0,     0,     0,     0,     0,     0,     0,     0,     0,\n",
       "            0,     0,     0,     0,     0,     0,     0,     0,     0,\n",
       "            0,     0,     0,     0,     0,     0,     0,     0,     0,\n",
       "            0,     0,     0,     0,     0,     0,     0,     0,     0,\n",
       "            0,     0,     0,     0,     0,     0,     0,     0,     0,\n",
       "            0,     0,     0,     0,     0, 35507, 16012, 66032, 41063,\n",
       "        33942, 15065, 41814, 38207, 33439, 39379, 49624, 20339, 35483,\n",
       "        26208,  4427, 42338, 67728, 54527, 35838, 18659, 20751, 62416,\n",
       "         9685, 52988, 68510,  8489, 57288, 61584, 33551, 35564, 31146,\n",
       "        47709, 35444, 49838, 35444, 41031, 35838, 59909, 11606,  8489,\n",
       "        62613, 61584, 45236, 35564,  1670, 10874, 23102, 56131, 16335,\n",
       "        41574],\n",
       "       [    0,     0,     0,     0,     0,     0,     0,     0,     0,\n",
       "            0,     0,     0,     0,     0,     0,     0,     0,     0,\n",
       "            0,     0,     0,     0,     0,     0,     0,     0,     0,\n",
       "            0,     0,     0,     0,     0,     0,     0,     0,     0,\n",
       "            0,     0,     0,     0,     0,     0,     0,     0,     0,\n",
       "            0,     0,     0,     0,     0,     0,     0,     0,     0,\n",
       "        10205, 42721, 68965,  5111, 20339, 70700, 49617, 42420, 15035,\n",
       "        13965, 61584, 38616, 69778,  6750, 61584,  8489, 19169, 41574,\n",
       "         8489, 11035, 20684, 10205,   571, 62182, 52988, 52879, 41574,\n",
       "        12886, 68954, 20774, 50815,  8489, 13923, 21480, 67443, 11035,\n",
       "        42578, 37909,  8489, 44062, 54527,  4618,  1894, 35444, 56131,\n",
       "        36781],\n",
       "       [    0,     0,     0,     0,     0,     0,     0,     0,     0,\n",
       "            0,     0,     0,     0,     0,     0,     0,     0,     0,\n",
       "            0,     0,     0,     0,     0,     0,     0,     0,     0,\n",
       "            0,     0,     0,     0,     0,     0,     0,     0,     0,\n",
       "            0,     0,     0,     0,     0,     0,     0,     0,     0,\n",
       "            0,     0,     0,     0,     0,     0,     0,     0,     0,\n",
       "            0,     0,     0,     0,     0,     0,     0,     0,     0,\n",
       "            0,     0,     0,     0,     0,     0,     0,     0,     0,\n",
       "            0,     0,     0,     0, 10205, 35564, 41354,  8489, 68602,\n",
       "        54715, 42721, 11010,  8489,  7917, 60369, 69342, 20462,  3978,\n",
       "        43057, 57317,  5660, 48776, 31146, 62751, 54878, 41574, 63184,\n",
       "        45909],\n",
       "       [    0,     0,     0,     0,     0,     0,     0,     0,     0,\n",
       "            0,     0,     0,     0,     0,     0,     0,     0,     0,\n",
       "            0,     0,     0,     0,     0,     0,     0,     0,     0,\n",
       "            0,     0,     0,     0,     0,     0,     0,     0,     0,\n",
       "            0,     0,     0,     0,     0,     0,     0,     0,     0,\n",
       "            0,     0, 60211, 62272, 20339, 10551, 10205, 35564, 38425,\n",
       "        52988, 52016, 73440,  5322, 42721,  4324, 16184,  7458, 27189,\n",
       "        35483, 53422, 22506, 41787, 38616,  8489, 61460, 41646,  9907,\n",
       "        53118, 41219,  5473, 34397, 22506, 42338,  5660, 41488, 64559,\n",
       "         8489, 40264, 65779, 42338, 43788, 69040, 25132, 19771, 10205,\n",
       "        53909, 35564, 22912, 40340, 52988, 41488,  8489, 43873, 41574,\n",
       "        31146],\n",
       "       [    0,     0,     0,     0,     0,     0,     0,     0,     0,\n",
       "            0,     0,     0,     0,     0,     0,     0,     0,     0,\n",
       "            0,     0,     0,     0,     0,     0,     0,     0,     0,\n",
       "            0,     0,     0,     0,     0,     0,     0,     0,     0,\n",
       "            0,     0,     0,     0,     0,     0,     0,     0,     0,\n",
       "            0,     0,     0,     0,     0,     0,     0,     0,     0,\n",
       "            0,     0,     0,     0,     0,     0,     0,     0,     0,\n",
       "            0,     0,     0,     0,     0,     0,     0,     0,     0,\n",
       "            0,     0,     0,     0,     0,     0,     0, 10205, 35564,\n",
       "         5660,  8489, 24574, 31102,  7917, 42721, 43057, 25132, 42652,\n",
       "        29446, 41315, 38467, 68602, 41574, 31672,  8778, 42338, 10804,\n",
       "        59603],\n",
       "       [68954, 20339, 25132, 57501, 15035, 27127, 21547, 15615, 47236,\n",
       "        52988,  8489, 61939, 52988, 62178, 64292, 43057, 25132, 62202,\n",
       "        41574,  8907,  8778, 20339, 63494, 21480, 15035, 27127,  4324,\n",
       "        10205, 25132,  8489, 16580, 62202, 29366, 69672, 22506, 41574,\n",
       "        19687, 15981, 20339, 59603,  4738,  4427, 64292, 63434, 48788,\n",
       "        49680, 42338, 20339, 53118, 35483, 10135, 22506,  8489, 34825,\n",
       "        41574, 15035,  7528, 66369, 43057, 24942, 31146,  8622, 44651,\n",
       "        42338,  2197, 71439, 49061, 41574, 46621, 21330, 42338, 32768,\n",
       "        36326, 46261,  2183, 35564, 62202, 41574, 15035,  8137, 14640,\n",
       "         4324, 64292, 35564, 41063, 18836,  8489, 13337, 49061, 41574,\n",
       "        13531, 41574, 31672, 36963, 35838,  8489, 49488, 63111, 41574,\n",
       "        45177]])"
      ]
     },
     "execution_count": 13,
     "metadata": {},
     "output_type": "execute_result"
    }
   ],
   "source": [
    "features[:10,:100]"
   ]
  },
  {
   "cell_type": "markdown",
   "metadata": {},
   "source": [
    "## Training, Validation, Test\n",
    "\n"
   ]
  },
  {
   "cell_type": "markdown",
   "metadata": {},
   "source": [
    "With our data in nice shape, we'll split it into training, validation, and test sets.\n",
    "\n",
    "> **Exercise:** Create the training, validation, and test sets here. You'll need to create sets for the features and the labels, `train_x` and `train_y` for example. Define a split fraction, `split_frac` as the fraction of data to keep in the training set. Usually this is set to 0.8 or 0.9. The rest of the data will be split in half to create the validation and testing data."
   ]
  },
  {
   "cell_type": "code",
   "execution_count": 14,
   "metadata": {},
   "outputs": [
    {
     "name": "stdout",
     "output_type": "stream",
     "text": [
      "\t\t\tFeature Shapes:\n",
      "Train set: \t\t(20000, 200)\t(20000,) \n",
      "Validation set: \t(2500, 200)\t(2500,) \n",
      "Test set: \t\t(2500, 200)\t(2500,)\n"
     ]
    }
   ],
   "source": [
    "split_frac = 0.8\n",
    "\n",
    "labels = np.array(labels)\n",
    "\n",
    "train_x, val_x = features[0:int(0.8*len(features))], features[int(0.8*len(features)):]\n",
    "train_y, val_y = labels[:int(0.8*len(features))], labels[int(0.8*len(features)):] \n",
    "\n",
    "val_x, test_x = val_x[:int(0.5*len(val_x))], val_x[int(0.5*len(val_x)):]\n",
    "val_y, test_y = val_y[:int(0.5*len(val_y))], val_y[int(0.5*len(val_y)):]\n",
    "\n",
    "print(\"\\t\\t\\tFeature Shapes:\")\n",
    "print(\"Train set: \\t\\t{}\\t{}\".format(train_x.shape, train_y.shape), \n",
    "      \"\\nValidation set: \\t{}\\t{}\".format(val_x.shape, val_y.shape),\n",
    "      \"\\nTest set: \\t\\t{}\\t{}\".format(test_x.shape, test_y.shape))"
   ]
  },
  {
   "cell_type": "markdown",
   "metadata": {},
   "source": [
    "With train, validation, and text fractions of 0.8, 0.1, 0.1, the final shapes should look like:\n",
    "```\n",
    "                    Feature Shapes:\n",
    "Train set: \t\t (20000, 200) \n",
    "Validation set: \t(2500, 200) \n",
    "Test set: \t\t  (2500, 200)\n",
    "```"
   ]
  },
  {
   "cell_type": "markdown",
   "metadata": {},
   "source": [
    "## Build the graph\n",
    "\n",
    "Here, we'll build the graph. First up, defining the hyperparameters.\n",
    "\n",
    "* `lstm_size`: Number of units in the hidden layers in the LSTM cells. Usually larger is better performance wise. Common values are 128, 256, 512, etc.\n",
    "* `lstm_layers`: Number of LSTM layers in the network. I'd start with 1, then add more if I'm underfitting.\n",
    "* `batch_size`: The number of reviews to feed the network in one training pass. Typically this should be set as high as you can go without running out of memory.\n",
    "* `learning_rate`: Learning rate"
   ]
  },
  {
   "cell_type": "code",
   "execution_count": 15,
   "metadata": {
    "collapsed": true
   },
   "outputs": [],
   "source": [
    "lstm_size = 128\n",
    "lstm_layers = 1\n",
    "batch_size = 300\n",
    "learning_rate = 0.001"
   ]
  },
  {
   "cell_type": "markdown",
   "metadata": {},
   "source": [
    "For the network itself, we'll be passing in our 200 element long review vectors. Each batch will be `batch_size` vectors. We'll also be using dropout on the LSTM layer, so we'll make a placeholder for the keep probability."
   ]
  },
  {
   "cell_type": "markdown",
   "metadata": {},
   "source": [
    "> **Exercise:** Create the `inputs_`, `labels_`, and drop out `keep_prob` placeholders using `tf.placeholder`. `labels_` needs to be two-dimensional to work with some functions later.  Since `keep_prob` is a scalar (a 0-dimensional tensor), you shouldn't provide a size to `tf.placeholder`."
   ]
  },
  {
   "cell_type": "code",
   "execution_count": 16,
   "metadata": {
    "collapsed": true
   },
   "outputs": [],
   "source": [
    "n_words = len(vocab_to_int) + 1 # Adding 1 because we use 0's for padding, dictionary started at 1\n",
    "\n",
    "# Create the graph object\n",
    "graph = tf.Graph()\n",
    "# Add nodes to the graph\n",
    "with graph.as_default():\n",
    "    inputs_ = tf.placeholder(dtype=tf.int32, shape=(batch_size, 200))\n",
    "    labels_ = tf.placeholder(dtype=tf.int32, shape=(batch_size,1))\n",
    "    keep_prob = tf.placeholder(dtype=tf.float32)"
   ]
  },
  {
   "cell_type": "markdown",
   "metadata": {},
   "source": [
    "### Embedding\n",
    "\n",
    "Now we'll add an embedding layer. We need to do this because there are 74000 words in our vocabulary. It is massively inefficient to one-hot encode our classes here. You should remember dealing with this problem from the word2vec lesson. Instead of one-hot encoding, we can have an embedding layer and use that layer as a lookup table. You could train an embedding layer using word2vec, then load it here. But, it's fine to just make a new layer and let the network learn the weights.\n",
    "\n",
    "> **Exercise:** Create the embedding lookup matrix as a `tf.Variable`. Use that embedding matrix to get the embedded vectors to pass to the LSTM cell with [`tf.nn.embedding_lookup`](https://www.tensorflow.org/api_docs/python/tf/nn/embedding_lookup). This function takes the embedding matrix and an input tensor, such as the review vectors. Then, it'll return another tensor with the embedded vectors. So, if the embedding layer has 200 units, the function will return a tensor with size [batch_size, 200].\n",
    "\n"
   ]
  },
  {
   "cell_type": "code",
   "execution_count": 17,
   "metadata": {
    "collapsed": true
   },
   "outputs": [],
   "source": [
    "# Size of the embedding vectors (number of units in the embedding layer)\n",
    "embed_size = 100 \n",
    "\n",
    "with graph.as_default():\n",
    "    embedding = tf.Variable(tf.random_uniform((n_words, embed_size),-1,+1,dtype=tf.float32))\n",
    "    embed = tf.nn.embedding_lookup(embedding, inputs_)"
   ]
  },
  {
   "cell_type": "markdown",
   "metadata": {},
   "source": [
    "### LSTM cell\n",
    "\n",
    "<img src=\"assets/network_diagram.png\" width=400px>\n",
    "\n",
    "Next, we'll create our LSTM cells to use in the recurrent network ([TensorFlow documentation](https://www.tensorflow.org/api_docs/python/tf/contrib/rnn)). Here we are just defining what the cells look like. This isn't actually building the graph, just defining the type of cells we want in our graph.\n",
    "\n",
    "To create a basic LSTM cell for the graph, you'll want to use `tf.contrib.rnn.BasicLSTMCell`. Looking at the function documentation:\n",
    "\n",
    "```\n",
    "tf.contrib.rnn.BasicLSTMCell(num_units, forget_bias=1.0, input_size=None, state_is_tuple=True, activation=<function tanh at 0x109f1ef28>)\n",
    "```\n",
    "\n",
    "you can see it takes a parameter called `num_units`, the number of units in the cell, called `lstm_size` in this code. So then, you can write something like \n",
    "\n",
    "```\n",
    "lstm = tf.contrib.rnn.BasicLSTMCell(num_units)\n",
    "```\n",
    "\n",
    "to create an LSTM cell with `num_units`. Next, you can add dropout to the cell with `tf.contrib.rnn.DropoutWrapper`. This just wraps the cell in another cell, but with dropout added to the inputs and/or outputs. It's a really convenient way to make your network better with almost no effort! So you'd do something like\n",
    "\n",
    "```\n",
    "drop = tf.contrib.rnn.DropoutWrapper(cell, output_keep_prob=keep_prob)\n",
    "```\n",
    "\n",
    "Most of the time, your network will have better performance with more layers. That's sort of the magic of deep learning, adding more layers allows the network to learn really complex relationships. Again, there is a simple way to create multiple layers of LSTM cells with `tf.contrib.rnn.MultiRNNCell`:\n",
    "\n",
    "```\n",
    "cell = tf.contrib.rnn.MultiRNNCell([drop] * lstm_layers)\n",
    "```\n",
    "\n",
    "Here, `[drop] * lstm_layers` creates a list of cells (`drop`) that is `lstm_layers` long. The `MultiRNNCell` wrapper builds this into multiple layers of RNN cells, one for each cell in the list.\n",
    "\n",
    "So the final cell you're using in the network is actually multiple (or just one) LSTM cells with dropout. But it all works the same from an achitectural viewpoint, just a more complicated graph in the cell.\n",
    "\n",
    "> **Exercise:** Below, use `tf.contrib.rnn.BasicLSTMCell` to create an LSTM cell. Then, add drop out to it with `tf.contrib.rnn.DropoutWrapper`. Finally, create multiple LSTM layers with `tf.contrib.rnn.MultiRNNCell`.\n",
    "\n",
    "Here is [a tutorial on building RNNs](https://www.tensorflow.org/tutorials/recurrent) that will help you out.\n"
   ]
  },
  {
   "cell_type": "code",
   "execution_count": 18,
   "metadata": {
    "collapsed": true
   },
   "outputs": [],
   "source": [
    "with graph.as_default():\n",
    "    # Your basic LSTM cell\n",
    "    lstm = tf.contrib.rnn.BasicLSTMCell(lstm_size)\n",
    "    \n",
    "    # Add dropout to the cell\n",
    "    drop = tf.contrib.rnn.DropoutWrapper(lstm, output_keep_prob=keep_prob)\n",
    "    \n",
    "    # Stack up multiple LSTM layers, for deep learning\n",
    "    cell = tf.contrib.rnn.MultiRNNCell([drop] * lstm_layers)\n",
    "    \n",
    "    # Getting an initial state of all zeros\n",
    "    initial_state = cell.zero_state(batch_size, tf.float32)"
   ]
  },
  {
   "cell_type": "markdown",
   "metadata": {},
   "source": [
    "### RNN forward pass\n",
    "\n",
    "<img src=\"assets/network_diagram.png\" width=400px>\n",
    "\n",
    "Now we need to actually run the data through the RNN nodes. You can use [`tf.nn.dynamic_rnn`](https://www.tensorflow.org/api_docs/python/tf/nn/dynamic_rnn) to do this. You'd pass in the RNN cell you created (our multiple layered LSTM `cell` for instance), and the inputs to the network.\n",
    "\n",
    "```\n",
    "outputs, final_state = tf.nn.dynamic_rnn(cell, inputs, initial_state=initial_state)\n",
    "```\n",
    "\n",
    "Above I created an initial state, `initial_state`, to pass to the RNN. This is the cell state that is passed between the hidden layers in successive time steps. `tf.nn.dynamic_rnn` takes care of most of the work for us. We pass in our cell and the input to the cell, then it does the unrolling and everything else for us. It returns outputs for each time step and the final_state of the hidden layer.\n",
    "\n",
    "> **Exercise:** Use `tf.nn.dynamic_rnn` to add the forward pass through the RNN. Remember that we're actually passing in vectors from the embedding layer, `embed`.\n",
    "\n"
   ]
  },
  {
   "cell_type": "code",
   "execution_count": 19,
   "metadata": {
    "collapsed": true
   },
   "outputs": [],
   "source": [
    "with graph.as_default():\n",
    "    outputs, final_state = tf.nn.dynamic_rnn(cell, embed, initial_state=initial_state)"
   ]
  },
  {
   "cell_type": "markdown",
   "metadata": {},
   "source": [
    "### Output\n",
    "\n",
    "We only care about the final output, we'll be using that as our sentiment prediction. So we need to grab the last output with `outputs[:, -1]`, the calculate the cost from that and `labels_`."
   ]
  },
  {
   "cell_type": "code",
   "execution_count": 20,
   "metadata": {
    "collapsed": true
   },
   "outputs": [],
   "source": [
    "with graph.as_default():\n",
    "    predictions = tf.contrib.layers.fully_connected(outputs[:, -1], 1, activation_fn=tf.sigmoid)\n",
    "    cost = tf.losses.mean_squared_error(labels_, predictions)\n",
    "    \n",
    "    optimizer = tf.train.AdamOptimizer(learning_rate).minimize(cost)"
   ]
  },
  {
   "cell_type": "markdown",
   "metadata": {},
   "source": [
    "### Validation accuracy\n",
    "\n",
    "Here we can add a few nodes to calculate the accuracy which we'll use in the validation pass."
   ]
  },
  {
   "cell_type": "code",
   "execution_count": 21,
   "metadata": {
    "collapsed": true
   },
   "outputs": [],
   "source": [
    "with graph.as_default():\n",
    "    correct_pred = tf.equal(tf.cast(tf.round(predictions), tf.int32), labels_)\n",
    "    accuracy = tf.reduce_mean(tf.cast(correct_pred, tf.float32))"
   ]
  },
  {
   "cell_type": "markdown",
   "metadata": {},
   "source": [
    "### Batching\n",
    "\n",
    "This is a simple function for returning batches from our data. First it removes data such that we only have full batches. Then it iterates through the `x` and `y` arrays and returns slices out of those arrays with size `[batch_size]`."
   ]
  },
  {
   "cell_type": "code",
   "execution_count": null,
   "metadata": {
    "collapsed": true
   },
   "outputs": [],
   "source": [
    "def get_batches(x, y, batch_size=100):\n",
    "    \n",
    "    n_batches = len(x)//batch_size\n",
    "    x, y = x[:n_batches*batch_size], y[:n_batches*batch_size]\n",
    "    for ii in range(0, len(x), batch_size):\n",
    "        yield x[ii:ii+batch_size], y[ii:ii+batch_size]"
   ]
  },
  {
   "cell_type": "markdown",
   "metadata": {},
   "source": [
    "## Training\n",
    "\n",
    "Below is the typical training code. If you want to do this yourself, feel free to delete all this code and implement it yourself. Before you run this, make sure the `checkpoints` directory exists."
   ]
  },
  {
   "cell_type": "code",
   "execution_count": null,
   "metadata": {},
   "outputs": [
    {
     "name": "stdout",
     "output_type": "stream",
     "text": [
      "Epoch: 0/10 Iteration: 5 Train loss: 0.251\n",
      "Epoch: 0/10 Iteration: 10 Train loss: 0.245\n",
      "Epoch: 0/10 Iteration: 15 Train loss: 0.249\n",
      "Epoch: 0/10 Iteration: 20 Train loss: 0.235\n",
      "Epoch: 0/10 Iteration: 25 Train loss: 0.231\n",
      "Val acc: 0.660\n",
      "Epoch: 0/10 Iteration: 30 Train loss: 0.206\n",
      "Epoch: 0/10 Iteration: 35 Train loss: 0.233\n",
      "Epoch: 0/10 Iteration: 40 Train loss: 0.227\n",
      "Epoch: 0/10 Iteration: 45 Train loss: 0.247\n",
      "Epoch: 0/10 Iteration: 50 Train loss: 0.218\n",
      "Val acc: 0.688\n",
      "Epoch: 0/10 Iteration: 55 Train loss: 0.219\n",
      "Epoch: 0/10 Iteration: 60 Train loss: 0.192\n",
      "Epoch: 0/10 Iteration: 65 Train loss: 0.173\n",
      "Epoch: 1/10 Iteration: 70 Train loss: 0.183\n",
      "Epoch: 1/10 Iteration: 75 Train loss: 0.150\n",
      "Val acc: 0.716\n",
      "Epoch: 1/10 Iteration: 80 Train loss: 0.184\n",
      "Epoch: 1/10 Iteration: 85 Train loss: 0.181\n",
      "Epoch: 1/10 Iteration: 90 Train loss: 0.152\n",
      "Epoch: 1/10 Iteration: 95 Train loss: 0.190\n",
      "Epoch: 1/10 Iteration: 100 Train loss: 0.198\n",
      "Val acc: 0.742\n",
      "Epoch: 1/10 Iteration: 105 Train loss: 0.158\n",
      "Epoch: 1/10 Iteration: 110 Train loss: 0.178\n",
      "Epoch: 1/10 Iteration: 115 Train loss: 0.265\n",
      "Epoch: 1/10 Iteration: 120 Train loss: 0.250\n",
      "Epoch: 1/10 Iteration: 125 Train loss: 0.207\n",
      "Val acc: 0.625\n",
      "Epoch: 1/10 Iteration: 130 Train loss: 0.220\n",
      "Epoch: 2/10 Iteration: 135 Train loss: 0.203\n",
      "Epoch: 2/10 Iteration: 140 Train loss: 0.189\n",
      "Epoch: 2/10 Iteration: 145 Train loss: 0.193\n",
      "Epoch: 2/10 Iteration: 150 Train loss: 0.183\n",
      "Val acc: 0.732\n",
      "Epoch: 2/10 Iteration: 155 Train loss: 0.174\n",
      "Epoch: 2/10 Iteration: 160 Train loss: 0.202\n",
      "Epoch: 2/10 Iteration: 165 Train loss: 0.149\n",
      "Epoch: 2/10 Iteration: 170 Train loss: 0.183\n",
      "Epoch: 2/10 Iteration: 175 Train loss: 0.172\n",
      "Val acc: 0.772\n",
      "Epoch: 2/10 Iteration: 180 Train loss: 0.159\n",
      "Epoch: 2/10 Iteration: 185 Train loss: 0.142\n",
      "Epoch: 2/10 Iteration: 190 Train loss: 0.154\n",
      "Epoch: 2/10 Iteration: 195 Train loss: 0.126\n",
      "Epoch: 3/10 Iteration: 200 Train loss: 0.154\n",
      "Val acc: 0.753\n",
      "Epoch: 3/10 Iteration: 205 Train loss: 0.134\n",
      "Epoch: 3/10 Iteration: 210 Train loss: 0.133\n",
      "Epoch: 3/10 Iteration: 215 Train loss: 0.132\n",
      "Epoch: 3/10 Iteration: 220 Train loss: 0.159\n",
      "Epoch: 3/10 Iteration: 225 Train loss: 0.146\n",
      "Val acc: 0.770\n",
      "Epoch: 3/10 Iteration: 230 Train loss: 0.115\n",
      "Epoch: 3/10 Iteration: 235 Train loss: 0.130\n",
      "Epoch: 3/10 Iteration: 240 Train loss: 0.086\n",
      "Epoch: 3/10 Iteration: 245 Train loss: 0.112\n",
      "Epoch: 3/10 Iteration: 250 Train loss: 0.082\n",
      "Val acc: 0.819\n",
      "Epoch: 3/10 Iteration: 255 Train loss: 0.101\n",
      "Epoch: 3/10 Iteration: 260 Train loss: 0.087\n",
      "Epoch: 4/10 Iteration: 265 Train loss: 0.155\n",
      "Epoch: 4/10 Iteration: 270 Train loss: 0.105\n",
      "Epoch: 4/10 Iteration: 275 Train loss: 0.100\n",
      "Val acc: 0.804\n",
      "Epoch: 4/10 Iteration: 280 Train loss: 0.106\n",
      "Epoch: 4/10 Iteration: 285 Train loss: 0.090\n",
      "Epoch: 4/10 Iteration: 290 Train loss: 0.095\n",
      "Epoch: 4/10 Iteration: 295 Train loss: 0.064\n",
      "Epoch: 4/10 Iteration: 300 Train loss: 0.090\n",
      "Val acc: 0.819\n",
      "Epoch: 4/10 Iteration: 305 Train loss: 0.079\n",
      "Epoch: 4/10 Iteration: 310 Train loss: 0.091\n",
      "Epoch: 4/10 Iteration: 315 Train loss: 0.090\n",
      "Epoch: 4/10 Iteration: 320 Train loss: 0.074\n",
      "Epoch: 4/10 Iteration: 325 Train loss: 0.047\n",
      "Val acc: 0.885\n",
      "Epoch: 4/10 Iteration: 330 Train loss: 0.068\n",
      "Epoch: 5/10 Iteration: 335 Train loss: 0.196\n",
      "Epoch: 5/10 Iteration: 340 Train loss: 0.378\n",
      "Epoch: 5/10 Iteration: 345 Train loss: 0.385\n",
      "Epoch: 5/10 Iteration: 350 Train loss: 0.315\n",
      "Val acc: 0.747\n",
      "Epoch: 5/10 Iteration: 355 Train loss: 0.240\n",
      "Epoch: 5/10 Iteration: 360 Train loss: 0.235\n",
      "Epoch: 5/10 Iteration: 365 Train loss: 0.156\n",
      "Epoch: 5/10 Iteration: 370 Train loss: 0.116\n",
      "Epoch: 5/10 Iteration: 375 Train loss: 0.204\n",
      "Val acc: 0.623\n",
      "Epoch: 5/10 Iteration: 380 Train loss: 0.173\n",
      "Epoch: 5/10 Iteration: 385 Train loss: 0.090\n",
      "Epoch: 5/10 Iteration: 390 Train loss: 0.261\n",
      "Epoch: 5/10 Iteration: 395 Train loss: 0.310\n",
      "Epoch: 6/10 Iteration: 400 Train loss: 0.146\n",
      "Val acc: 0.740\n",
      "Epoch: 6/10 Iteration: 405 Train loss: 0.175\n",
      "Epoch: 6/10 Iteration: 410 Train loss: 0.164\n",
      "Epoch: 6/10 Iteration: 415 Train loss: 0.161\n",
      "Epoch: 6/10 Iteration: 420 Train loss: 0.163\n",
      "Epoch: 6/10 Iteration: 425 Train loss: 0.157\n",
      "Val acc: 0.598\n",
      "Epoch: 6/10 Iteration: 430 Train loss: 0.166\n",
      "Epoch: 6/10 Iteration: 435 Train loss: 0.166\n",
      "Epoch: 6/10 Iteration: 440 Train loss: 0.159\n",
      "Epoch: 6/10 Iteration: 445 Train loss: 0.151\n",
      "Epoch: 6/10 Iteration: 450 Train loss: 0.157\n",
      "Val acc: 0.587\n",
      "Epoch: 6/10 Iteration: 455 Train loss: 0.152\n",
      "Epoch: 6/10 Iteration: 460 Train loss: 0.147\n",
      "Epoch: 7/10 Iteration: 465 Train loss: 0.364\n",
      "Epoch: 7/10 Iteration: 470 Train loss: 0.213\n",
      "Epoch: 7/10 Iteration: 475 Train loss: 0.174\n",
      "Val acc: 0.614\n",
      "Epoch: 7/10 Iteration: 480 Train loss: 0.194\n",
      "Epoch: 7/10 Iteration: 485 Train loss: 0.175\n",
      "Epoch: 7/10 Iteration: 490 Train loss: 0.165\n",
      "Epoch: 7/10 Iteration: 495 Train loss: 0.165\n",
      "Epoch: 7/10 Iteration: 500 Train loss: 0.262\n",
      "Val acc: 0.553\n",
      "Epoch: 7/10 Iteration: 505 Train loss: 0.245\n",
      "Epoch: 7/10 Iteration: 510 Train loss: 0.222\n",
      "Epoch: 7/10 Iteration: 515 Train loss: 0.188\n",
      "Epoch: 7/10 Iteration: 520 Train loss: 0.166\n",
      "Epoch: 7/10 Iteration: 525 Train loss: 0.121\n",
      "Val acc: 0.776\n",
      "Epoch: 8/10 Iteration: 530 Train loss: 0.120\n",
      "Epoch: 8/10 Iteration: 535 Train loss: 0.063\n",
      "Epoch: 8/10 Iteration: 540 Train loss: 0.110\n",
      "Epoch: 8/10 Iteration: 545 Train loss: 0.112\n",
      "Epoch: 8/10 Iteration: 550 Train loss: 0.095\n",
      "Val acc: 0.599\n",
      "Epoch: 8/10 Iteration: 555 Train loss: 0.091\n",
      "Epoch: 8/10 Iteration: 560 Train loss: 0.070\n",
      "Epoch: 8/10 Iteration: 565 Train loss: 0.060\n",
      "Epoch: 8/10 Iteration: 570 Train loss: 0.049\n",
      "Epoch: 8/10 Iteration: 575 Train loss: 0.068\n",
      "Val acc: 0.737\n",
      "Epoch: 8/10 Iteration: 580 Train loss: 0.068\n",
      "Epoch: 8/10 Iteration: 585 Train loss: 0.074\n",
      "Epoch: 8/10 Iteration: 590 Train loss: 0.073\n",
      "Epoch: 9/10 Iteration: 595 Train loss: 0.304\n",
      "Epoch: 9/10 Iteration: 600 Train loss: 0.164\n",
      "Val acc: 0.771\n",
      "Epoch: 9/10 Iteration: 605 Train loss: 0.101\n",
      "Epoch: 9/10 Iteration: 610 Train loss: 0.198\n",
      "Epoch: 9/10 Iteration: 615 Train loss: 0.239\n",
      "Epoch: 9/10 Iteration: 620 Train loss: 0.108\n"
     ]
    }
   ],
   "source": [
    "epochs = 10\n",
    "\n",
    "with graph.as_default():\n",
    "    saver = tf.train.Saver()\n",
    "\n",
    "with tf.Session(graph=graph) as sess:\n",
    "    sess.run(tf.global_variables_initializer())\n",
    "    iteration = 1\n",
    "    for e in range(epochs):\n",
    "        state = sess.run(initial_state)\n",
    "        \n",
    "        for ii, (x, y) in enumerate(get_batches(train_x, train_y, batch_size), 1):\n",
    "            feed = {inputs_: x,\n",
    "                    labels_: y[:, None],\n",
    "                    keep_prob: 0.5,\n",
    "                    initial_state: state}\n",
    "            loss, state, _ = sess.run([cost, final_state, optimizer], feed_dict=feed)\n",
    "            \n",
    "            if iteration%5==0:\n",
    "                print(\"Epoch: {}/{}\".format(e, epochs),\n",
    "                      \"Iteration: {}\".format(iteration),\n",
    "                      \"Train loss: {:.3f}\".format(loss))\n",
    "\n",
    "            if iteration%25==0:\n",
    "                val_acc = []\n",
    "                val_state = sess.run(cell.zero_state(batch_size, tf.float32))\n",
    "                for x, y in get_batches(val_x, val_y, batch_size):\n",
    "                    feed = {inputs_: x,\n",
    "                            labels_: y[:, None],\n",
    "                            keep_prob: 1,\n",
    "                            initial_state: val_state}\n",
    "                    batch_acc, val_state = sess.run([accuracy, final_state], feed_dict=feed)\n",
    "                    val_acc.append(batch_acc)\n",
    "                print(\"Val acc: {:.3f}\".format(np.mean(val_acc)))\n",
    "            iteration +=1\n",
    "    saver.save(sess, \"checkpoints/sentiment.ckpt\")"
   ]
  },
  {
   "cell_type": "markdown",
   "metadata": {},
   "source": [
    "## Testing"
   ]
  },
  {
   "cell_type": "code",
   "execution_count": null,
   "metadata": {},
   "outputs": [],
   "source": [
    "test_acc = []\n",
    "with tf.Session(graph=graph) as sess:\n",
    "    saver.restore(sess, tf.train.latest_checkpoint('checkpoints'))\n",
    "    test_state = sess.run(cell.zero_state(batch_size, tf.float32))\n",
    "    for ii, (x, y) in enumerate(get_batches(test_x, test_y, batch_size), 1):\n",
    "        feed = {inputs_: x,\n",
    "                labels_: y[:, None],\n",
    "                keep_prob: 1,\n",
    "                initial_state: test_state}\n",
    "        batch_acc, test_state = sess.run([accuracy, final_state], feed_dict=feed)\n",
    "        test_acc.append(batch_acc)\n",
    "    print(\"Test accuracy: {:.3f}\".format(np.mean(test_acc)))"
   ]
  }
 ],
 "metadata": {
  "kernelspec": {
   "display_name": "Python 3",
   "language": "python",
   "name": "python3"
  },
  "language_info": {
   "codemirror_mode": {
    "name": "ipython",
    "version": 3
   },
   "file_extension": ".py",
   "mimetype": "text/x-python",
   "name": "python",
   "nbconvert_exporter": "python",
   "pygments_lexer": "ipython3",
   "version": "3.6.3"
  }
 },
 "nbformat": 4,
 "nbformat_minor": 2
}
