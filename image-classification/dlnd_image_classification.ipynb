{
 "cells": [
  {
   "cell_type": "markdown",
   "metadata": {
    "collapsed": true
   },
   "source": [
    "# Image Classification\n",
    "In this project, you'll classify images from the [CIFAR-10 dataset](https://www.cs.toronto.edu/~kriz/cifar.html).  The dataset consists of airplanes, dogs, cats, and other objects. You'll preprocess the images, then train a convolutional neural network on all the samples. The images need to be normalized and the labels need to be one-hot encoded.  You'll get to apply what you learned and build a convolutional, max pooling, dropout, and fully connected layers.  At the end, you'll get to see your neural network's predictions on the sample images.\n",
    "## Get the Data\n",
    "Run the following cell to download the [CIFAR-10 dataset for python](https://www.cs.toronto.edu/~kriz/cifar-10-python.tar.gz)."
   ]
  },
  {
   "cell_type": "code",
   "execution_count": 1,
   "metadata": {},
   "outputs": [
    {
     "name": "stdout",
     "output_type": "stream",
     "text": [
      "All files found!\n"
     ]
    }
   ],
   "source": [
    "\"\"\"\n",
    "DON'T MODIFY ANYTHING IN THIS CELL THAT IS BELOW THIS LINE\n",
    "\"\"\"\n",
    "from urllib.request import urlretrieve\n",
    "from os.path import isfile, isdir\n",
    "from tqdm import tqdm\n",
    "import problem_unittests as tests\n",
    "import tarfile\n",
    "\n",
    "cifar10_dataset_folder_path = 'cifar-10-batches-py'\n",
    "\n",
    "# Use Floyd's cifar-10 dataset if present\n",
    "floyd_cifar10_location = '/cifar/cifar-10-python.tar.gz'\n",
    "if isfile(floyd_cifar10_location):\n",
    "    tar_gz_path = floyd_cifar10_location\n",
    "else:\n",
    "    tar_gz_path = 'cifar-10-python.tar.gz'\n",
    "\n",
    "class DLProgress(tqdm):\n",
    "    last_block = 0\n",
    "\n",
    "    def hook(self, block_num=1, block_size=1, total_size=None):\n",
    "        self.total = total_size\n",
    "        self.update((block_num - self.last_block) * block_size)\n",
    "        self.last_block = block_num\n",
    "\n",
    "if not isfile(tar_gz_path):\n",
    "    with DLProgress(unit='B', unit_scale=True, miniters=1, desc='CIFAR-10 Dataset') as pbar:\n",
    "        urlretrieve(\n",
    "            'https://www.cs.toronto.edu/~kriz/cifar-10-python.tar.gz',\n",
    "            tar_gz_path,\n",
    "            pbar.hook)\n",
    "\n",
    "if not isdir(cifar10_dataset_folder_path):\n",
    "    with tarfile.open(tar_gz_path) as tar:\n",
    "        tar.extractall()\n",
    "        tar.close()\n",
    "\n",
    "\n",
    "tests.test_folder_path(cifar10_dataset_folder_path)"
   ]
  },
  {
   "cell_type": "markdown",
   "metadata": {},
   "source": [
    "## Explore the Data\n",
    "                The dataset is broken into batches to prevent your machine from running out of memory.  The CIFAR-10 dataset consists of 5 batches, named `data_batch_1`, `data_batch_2`, etc.. Each batch contains the labels and images that are one of the following:\n",
    "* airplane\n",
    "* automobile\n",
    "* bird\n",
    "* cat\n",
    "* deer\n",
    "* dog\n",
    "* frog\n",
    "* horse\n",
    "* ship\n",
    "* truck\n",
    "\n",
    "Understanding a dataset is part of making predictions on the data.  Play around with the code cell below by changing the `batch_id` and `sample_id`. The `batch_id` is the id for a batch (1-5). The `sample_id` is the id for a image and label pair in the batch.\n",
    "\n",
    "Ask yourself \"What are all possible labels?\", \"What is the range of values for the image data?\", \"Are the labels in order or random?\".  Answers to questions like these will help you preprocess the data and end up with better predictions."
   ]
  },
  {
   "cell_type": "code",
   "execution_count": 2,
   "metadata": {},
   "outputs": [
    {
     "name": "stdout",
     "output_type": "stream",
     "text": [
      "\n",
      "Stats of batch 5:\n",
      "Samples: 10000\n",
      "Label Counts: {0: 1014, 1: 1014, 2: 952, 3: 1016, 4: 997, 5: 1025, 6: 980, 7: 977, 8: 1003, 9: 1022}\n",
      "First 20 Labels: [1, 8, 5, 1, 5, 7, 4, 3, 8, 2, 7, 2, 0, 1, 5, 9, 6, 2, 0, 8]\n",
      "\n",
      "Example of Image 14:\n",
      "Image - Min Value: 5 Max Value: 255\n",
      "Image - Shape: (32, 32, 3)\n",
      "Label - Label Id: 5 Name: dog\n"
     ]
    },
    {
     "data": {
      "image/png": "[encoded data removed]",
      "text/plain": [
       "<matplotlib.figure.Figure at 0x7f2910084518>"
      ]
     },
     "metadata": {
      "image/png": {
       "height": 250,
       "width": 253
      }
     },
     "output_type": "display_data"
    }
   ],
   "source": [
    "%matplotlib inline\n",
    "%config InlineBackend.figure_format = 'retina'\n",
    "\n",
    "import helper\n",
    "import numpy as np\n",
    "\n",
    "# Explore the dataset\n",
    "batch_id = 5\n",
    "sample_id = 14\n",
    "helper.display_stats(cifar10_dataset_folder_path, batch_id, sample_id)"
   ]
  },
  {
   "cell_type": "markdown",
   "metadata": {},
   "source": [
    "## Implement Preprocess Functions\n",
    "### Normalize\n",
    "In the cell below, implement the `normalize` function to take in image data, `x`, and return it as a normalized Numpy array. The values should be in the range of 0 to 1, inclusive.  The return object should be the same shape as `x`."
   ]
  },
  {
   "cell_type": "code",
   "execution_count": 8,
   "metadata": {},
   "outputs": [
    {
     "name": "stdout",
     "output_type": "stream",
     "text": [
      "Tests Passed\n"
     ]
    }
   ],
   "source": [
    "def normalize(x):\n",
    "    \"\"\"\n",
    "    Normalize a list of sample image data in the range of 0 to 1\n",
    "    : x: List of image data.  The image shape is (32, 32, 3)\n",
    "    : return: Numpy array of normalized data\n",
    "    \"\"\"\n",
    "    # TODO: Implement Function\n",
    "    \n",
    "    return np.array(x/255., dtype=np.float32)\n",
    "\n",
    "\n",
    "\"\"\"\n",
    "DON'T MODIFY ANYTHING IN THIS CELL THAT IS BELOW THIS LINE\n",
    "\"\"\"\n",
    "tests.test_normalize(normalize)"
   ]
  },
  {
   "cell_type": "markdown",
   "metadata": {},
   "source": [
    "### One-hot encode\n",
    "Just like the previous code cell, you'll be implementing a function for preprocessing.  This time, you'll implement the `one_hot_encode` function. The input, `x`, are a list of labels.  Implement the function to return the list of labels as One-Hot encoded Numpy array.  The possible values for labels are 0 to 9. The one-hot encoding function should return the same encoding for each value between each call to `one_hot_encode`.  Make sure to save the map of encodings outside the function.\n",
    "\n",
    "Hint: Don't reinvent the wheel."
   ]
  },
  {
   "cell_type": "code",
   "execution_count": 9,
   "metadata": {},
   "outputs": [
    {
     "name": "stdout",
     "output_type": "stream",
     "text": [
      "Tests Passed\n"
     ]
    }
   ],
   "source": [
    "def one_hot_encode(x):\n",
    "    \"\"\"\n",
    "    One hot encode a list of sample labels. Return a one-hot encoded vector for each label.\n",
    "    : x: List of sample Labels\n",
    "    : return: Numpy array of one-hot encoded labels\n",
    "    \"\"\"\n",
    "    # TODO: Implement Function\n",
    "    b=[]\n",
    "    for l in x: \n",
    "        a = np.zeros(10);\n",
    "        a[l]=1 \n",
    "        b.append(a)\n",
    "        \n",
    "    return np.array(b) \n",
    "\n",
    "\n",
    "\"\"\"\n",
    "DON'T MODIFY ANYTHING IN THIS CELL THAT IS BELOW THIS LINE\n",
    "\"\"\"\n",
    "tests.test_one_hot_encode(one_hot_encode)"
   ]
  },
  {
   "cell_type": "markdown",
   "metadata": {},
   "source": [
    "### Randomize Data\n",
    "As you saw from exploring the data above, the order of the samples are randomized.  It doesn't hurt to randomize it again, but you don't need to for this dataset."
   ]
  },
  {
   "cell_type": "markdown",
   "metadata": {},
   "source": [
    "## Preprocess all the data and save it\n",
    "Running the code cell below will preprocess all the CIFAR-10 data and save it to file. The code below also uses 10% of the training data for validation."
   ]
  },
  {
   "cell_type": "code",
   "execution_count": 10,
   "metadata": {},
   "outputs": [],
   "source": [
    "\"\"\"\n",
    "DON'T MODIFY ANYTHING IN THIS CELL\n",
    "\"\"\"\n",
    "# Preprocess Training, Validation, and Testing Data\n",
    "helper.preprocess_and_save_data(cifar10_dataset_folder_path, normalize, one_hot_encode)"
   ]
  },
  {
   "cell_type": "markdown",
   "metadata": {},
   "source": [
    "# Check Point\n",
    "This is your first checkpoint.  If you ever decide to come back to this notebook or have to restart the notebook, you can start from here.  The preprocessed data has been saved to disk."
   ]
  },
  {
   "cell_type": "code",
   "execution_count": 11,
   "metadata": {
    "collapsed": true
   },
   "outputs": [],
   "source": [
    "\"\"\"\n",
    "DON'T MODIFY ANYTHING IN THIS CELL\n",
    "\"\"\"\n",
    "import pickle\n",
    "import problem_unittests as tests\n",
    "import helper\n",
    "\n",
    "# Load the Preprocessed Validation data\n",
    "valid_features, valid_labels = pickle.load(open('preprocess_validation.p', mode='rb'))"
   ]
  },
  {
   "cell_type": "markdown",
   "metadata": {},
   "source": [
    "## Build the network\n",
    "For the neural network, you'll build each layer into a function.  Most of the code you've seen has been outside of functions. To test your code more thoroughly, we require that you put each layer in a function.  This allows us to give you better feedback and test for simple mistakes using our unittests before you submit your project.\n",
    "\n",
    ">**Note:** If you're finding it hard to dedicate enough time for this course each week, we've provided a small shortcut to this part of the project. In the next couple of problems, you'll have the option to use classes from the [TensorFlow Layers](https://www.tensorflow.org/api_docs/python/tf/layers) or [TensorFlow Layers (contrib)](https://www.tensorflow.org/api_guides/python/contrib.layers) packages to build each layer, except the layers you build in the \"Convolutional and Max Pooling Layer\" section.  TF Layers is similar to Keras's and TFLearn's abstraction to layers, so it's easy to pickup.\n",
    "\n",
    ">However, if you would like to get the most out of this course, try to solve all the problems _without_ using anything from the TF Layers packages. You **can** still use classes from other packages that happen to have the same name as ones you find in TF Layers! For example, instead of using the TF Layers version of the `conv2d` class, [tf.layers.conv2d](https://www.tensorflow.org/api_docs/python/tf/layers/conv2d), you would want to use the TF Neural Network version of `conv2d`, [tf.nn.conv2d](https://www.tensorflow.org/api_docs/python/tf/nn/conv2d). \n",
    "\n",
    "Let's begin!\n",
    "\n",
    "### Input\n",
    "The neural network needs to read the image data, one-hot encoded labels, and dropout keep probability. Implement the following functions\n",
    "* Implement `neural_net_image_input`\n",
    " * Return a [TF Placeholder](https://www.tensorflow.org/api_docs/python/tf/placeholder)\n",
    " * Set the shape using `image_shape` with batch size set to `None`.\n",
    " * Name the TensorFlow placeholder \"x\" using the TensorFlow `name` parameter in the [TF Placeholder](https://www.tensorflow.org/api_docs/python/tf/placeholder).\n",
    "* Implement `neural_net_label_input`\n",
    " * Return a [TF Placeholder](https://www.tensorflow.org/api_docs/python/tf/placeholder)\n",
    " * Set the shape using `n_classes` with batch size set to `None`.\n",
    " * Name the TensorFlow placeholder \"y\" using the TensorFlow `name` parameter in the [TF Placeholder](https://www.tensorflow.org/api_docs/python/tf/placeholder).\n",
    "* Implement `neural_net_keep_prob_input`\n",
    " * Return a [TF Placeholder](https://www.tensorflow.org/api_docs/python/tf/placeholder) for dropout keep probability.\n",
    " * Name the TensorFlow placeholder \"keep_prob\" using the TensorFlow `name` parameter in the [TF Placeholder](https://www.tensorflow.org/api_docs/python/tf/placeholder).\n",
    "\n",
    "These names will be used at the end of the project to load your saved model.\n",
    "\n",
    "Note: `None` for shapes in TensorFlow allow for a dynamic size."
   ]
  },
  {
   "cell_type": "code",
   "execution_count": 12,
   "metadata": {},
   "outputs": [
    {
     "name": "stdout",
     "output_type": "stream",
     "text": [
      "Image Input Tests Passed.\n",
      "Label Input Tests Passed.\n",
      "Keep Prob Tests Passed.\n"
     ]
    }
   ],
   "source": [
    "import tensorflow as tf\n",
    "\n",
    "def neural_net_image_input(image_shape):\n",
    "    \"\"\"\n",
    "    Return a Tensor for a batch of image input\n",
    "    : image_shape: Shape of the images\n",
    "    : return: Tensor for image input.\n",
    "    \"\"\"\n",
    "    # TODO: Implement Function\n",
    "    #print (image_shape)\n",
    "    return tf.placeholder(tf.float32, shape = (None, image_shape[0], image_shape[1], image_shape[2]), name=\"x\")\n",
    "\n",
    "\n",
    "def neural_net_label_input(n_classes):\n",
    "    \"\"\"\n",
    "    Return a Tensor for a batch of label input\n",
    "    : n_classes: Number of classes\n",
    "    : return: Tensor for label input.\n",
    "    \"\"\"\n",
    "    # TODO: Implement Function\n",
    "    return tf.placeholder(tf.float32, shape = (None, n_classes), name=\"y\")\n",
    "\n",
    "\n",
    "def neural_net_keep_prob_input():\n",
    "    \"\"\"\n",
    "    Return a Tensor for keep probability\n",
    "    : return: Tensor for keep probability.\n",
    "    \"\"\"\n",
    "    # TODO: Implement Function\n",
    "    return tf.placeholder(dtype = np.float32, name=\"keep_prob\")\n",
    "\n",
    "\n",
    "\"\"\"\n",
    "DON'T MODIFY ANYTHING IN THIS CELL THAT IS BELOW THIS LINE\n",
    "\"\"\"\n",
    "tf.reset_default_graph()\n",
    "tests.test_nn_image_inputs(neural_net_image_input)\n",
    "tests.test_nn_label_inputs(neural_net_label_input)\n",
    "tests.test_nn_keep_prob_inputs(neural_net_keep_prob_input)"
   ]
  },
  {
   "cell_type": "markdown",
   "metadata": {},
   "source": [
    "### Convolution and Max Pooling Layer\n",
    "Convolution layers have a lot of success with images. For this code cell, you should implement the function `conv2d_maxpool` to apply convolution then max pooling:\n",
    "* Create the weight and bias using `conv_ksize`, `conv_num_outputs` and the shape of `x_tensor`.\n",
    "* Apply a convolution to `x_tensor` using weight and `conv_strides`.\n",
    " * We recommend you use same padding, but you're welcome to use any padding.\n",
    "* Add bias\n",
    "* Add a nonlinear activation to the convolution.\n",
    "* Apply Max Pooling using `pool_ksize` and `pool_strides`.\n",
    " * We recommend you use same padding, but you're welcome to use any padding.\n",
    "\n",
    "**Note:** You **can't** use [TensorFlow Layers](https://www.tensorflow.org/api_docs/python/tf/layers) or [TensorFlow Layers (contrib)](https://www.tensorflow.org/api_guides/python/contrib.layers) for **this** layer, but you can still use TensorFlow's [Neural Network](https://www.tensorflow.org/api_docs/python/tf/nn) package. You may still use the shortcut option for all the **other** layers."
   ]
  },
  {
   "cell_type": "code",
   "execution_count": 13,
   "metadata": {},
   "outputs": [
    {
     "name": "stdout",
     "output_type": "stream",
     "text": [
      "Tests Passed\n"
     ]
    }
   ],
   "source": [
    "def conv2d_maxpool(x_tensor, conv_num_outputs, conv_ksize, conv_strides, pool_ksize, pool_strides):\n",
    "    \"\"\"\n",
    "    Apply convolution then max pooling to x_tensor\n",
    "    :param x_tensor: TensorFlow Tensor\n",
    "    :param conv_num_outputs: Number of outputs for the convolutional layer\n",
    "    :param conv_ksize: kernal size 2-D Tuple for the convolutional layer\n",
    "    :param conv_strides: Stride 2-D Tuple for convolution\n",
    "    :param pool_ksize: kernal size 2-D Tuple for pool\n",
    "    :param pool_strides: Stride 2-D Tuple for pool\n",
    "    : return: A tensor that represents convolution and max pooling of x_tensor\n",
    "    \"\"\"\n",
    "    # TODO: Implement Function\n",
    "    filter_weights = tf.Variable(tf.truncated_normal((conv_ksize[0],conv_ksize[1],\\\n",
    "                                          int(x_tensor.shape[-1]),conv_num_outputs)))\n",
    "    bias = tf.Variable(tf.truncated_normal([conv_num_outputs]))\n",
    "    conv_layer = tf.nn.conv2d(x_tensor,filter_weights, \\\n",
    "                 [1, conv_strides[0], conv_strides[1], 1], padding='SAME')\n",
    "    conv_out = tf.nn.bias_add(conv_layer,bias)\n",
    "    conv_relu_out = tf.nn.relu(conv_out)\n",
    "    out = tf.nn.max_pool(conv_relu_out, [1, pool_ksize[0], pool_ksize[1], 1], \\\n",
    "                         [1, pool_strides[0], pool_strides[1],1], padding='SAME')\n",
    "    return out\n",
    "\n",
    "\n",
    "\"\"\"\n",
    "DON'T MODIFY ANYTHING IN THIS CELL THAT IS BELOW THIS LINE\n",
    "\"\"\"\n",
    "tests.test_con_pool(conv2d_maxpool)"
   ]
  },
  {
   "cell_type": "markdown",
   "metadata": {},
   "source": [
    "### Flatten Layer\n",
    "Implement the `flatten` function to change the dimension of `x_tensor` from a 4-D tensor to a 2-D tensor.  The output should be the shape (*Batch Size*, *Flattened Image Size*). Shortcut option: you can use classes from the [TensorFlow Layers](https://www.tensorflow.org/api_docs/python/tf/layers) or [TensorFlow Layers (contrib)](https://www.tensorflow.org/api_guides/python/contrib.layers) packages for this layer. For more of a challenge, only use other TensorFlow packages."
   ]
  },
  {
   "cell_type": "code",
   "execution_count": 14,
   "metadata": {},
   "outputs": [
    {
     "name": "stdout",
     "output_type": "stream",
     "text": [
      "Tests Passed\n"
     ]
    }
   ],
   "source": [
    "def flatten(x_tensor):\n",
    "    \"\"\"\n",
    "    Flatten x_tensor to (Batch Size, Flattened Image Size)\n",
    "    : x_tensor: A tensor of size (Batch Size, ...), where ... are the image dimensions.\n",
    "    : return: A tensor of size (Batch Size, Flattened Image Size).\n",
    "    \"\"\"\n",
    "    # TODO: Implement Function\n",
    "    shape = x_tensor.get_shape().as_list()\n",
    "    #print(shape)\n",
    "    return tf.reshape(x_tensor, [-1, shape[1]*shape[2]*shape[3]])\n",
    "\n",
    "\n",
    "\"\"\"\n",
    "DON'T MODIFY ANYTHING IN THIS CELL THAT IS BELOW THIS LINE\n",
    "\"\"\"\n",
    "tests.test_flatten(flatten)"
   ]
  },
  {
   "cell_type": "markdown",
   "metadata": {},
   "source": [
    "### Fully-Connected Layer\n",
    "Implement the `fully_conn` function to apply a fully connected layer to `x_tensor` with the shape (*Batch Size*, *num_outputs*). Shortcut option: you can use classes from the [TensorFlow Layers](https://www.tensorflow.org/api_docs/python/tf/layers) or [TensorFlow Layers (contrib)](https://www.tensorflow.org/api_guides/python/contrib.layers) packages for this layer. For more of a challenge, only use other TensorFlow packages."
   ]
  },
  {
   "cell_type": "code",
   "execution_count": 15,
   "metadata": {},
   "outputs": [
    {
     "name": "stdout",
     "output_type": "stream",
     "text": [
      "Tests Passed\n"
     ]
    }
   ],
   "source": [
    "def fully_conn(x_tensor, num_outputs):\n",
    "    \"\"\"\n",
    "    Apply a fully connected layer to x_tensor using weight and bias\n",
    "    : x_tensor: A 2-D tensor where the first dimension is batch size.\n",
    "    : num_outputs: The number of output that the new tensor should be.\n",
    "    : return: A 2-D tensor where the second dimension is num_outputs.\n",
    "    \"\"\"\n",
    "    # TODO: Implement Function\n",
    "    weights = tf.Variable(tf.truncated_normal((int(x_tensor.shape[1]),num_outputs)))\n",
    "    bias = tf.Variable(tf.truncated_normal([num_outputs]))\n",
    "    \n",
    "    return tf.add(tf.matmul(x_tensor, weights), bias)\n",
    "\n",
    "\n",
    "\"\"\"\n",
    "DON'T MODIFY ANYTHING IN THIS CELL THAT IS BELOW THIS LINE\n",
    "\"\"\"\n",
    "tests.test_fully_conn(fully_conn)"
   ]
  },
  {
   "cell_type": "markdown",
   "metadata": {},
   "source": [
    "### Output Layer\n",
    "Implement the `output` function to apply a fully connected layer to `x_tensor` with the shape (*Batch Size*, *num_outputs*). Shortcut option: you can use classes from the [TensorFlow Layers](https://www.tensorflow.org/api_docs/python/tf/layers) or [TensorFlow Layers (contrib)](https://www.tensorflow.org/api_guides/python/contrib.layers) packages for this layer. For more of a challenge, only use other TensorFlow packages.\n",
    "\n",
    "**Note:** Activation, softmax, or cross entropy should **not** be applied to this."
   ]
  },
  {
   "cell_type": "code",
   "execution_count": 16,
   "metadata": {},
   "outputs": [
    {
     "name": "stdout",
     "output_type": "stream",
     "text": [
      "Tests Passed\n"
     ]
    }
   ],
   "source": [
    "def output(x_tensor, num_outputs):\n",
    "    \"\"\"\n",
    "    Apply a output layer to x_tensor using weight and bias\n",
    "    : x_tensor: A 2-D tensor where the first dimension is batch size.\n",
    "    : num_outputs: The number of output that the new tensor should be.\n",
    "    : return: A 2-D tensor where the second dimension is num_outputs.\n",
    "    \"\"\"\n",
    "    # TODO: Implement Function\n",
    "    \n",
    "    weights = tf.Variable(tf.truncated_normal((int(x_tensor.shape[1]),num_outputs)))\n",
    "    bias = tf.Variable(tf.truncated_normal([num_outputs]))\n",
    "    \n",
    "    return tf.add(tf.matmul(x_tensor, weights), bias)\n",
    "\n",
    "\n",
    "\"\"\"\n",
    "DON'T MODIFY ANYTHING IN THIS CELL THAT IS BELOW THIS LINE\n",
    "\"\"\"\n",
    "tests.test_output(output)"
   ]
  },
  {
   "cell_type": "markdown",
   "metadata": {},
   "source": [
    "### Create Convolutional Model\n",
    "Implement the function `conv_net` to create a convolutional neural network model. The function takes in a batch of images, `x`, and outputs logits.  Use the layers you created above to create this model:\n",
    "\n",
    "* Apply 1, 2, or 3 Convolution and Max Pool layers\n",
    "* Apply a Flatten Layer\n",
    "* Apply 1, 2, or 3 Fully Connected Layers\n",
    "* Apply an Output Layer\n",
    "* Return the output\n",
    "* Apply [TensorFlow's Dropout](https://www.tensorflow.org/api_docs/python/tf/nn/dropout) to one or more layers in the model using `keep_prob`. "
   ]
  },
  {
   "cell_type": "code",
   "execution_count": 17,
   "metadata": {},
   "outputs": [
    {
     "name": "stdout",
     "output_type": "stream",
     "text": [
      "Neural Network Built!\n"
     ]
    }
   ],
   "source": [
    "def conv_net(x, keep_prob):\n",
    "    \"\"\"\n",
    "    Create a convolutional neural network model\n",
    "    : x: Placeholder tensor that holds image data.\n",
    "    : keep_prob: Placeholder tensor that hold dropout keep probability.\n",
    "    : return: Tensor that represents logits\n",
    "    \"\"\"\n",
    "    # TODO: Apply 1, 2, or 3 Convolution and Max Pool layers\n",
    "    #    Play around with different number of outputs, kernel size and stride\n",
    "    # Function Definition from Above:\n",
    "    # conv2d_maxpool(x_tensor, conv_num_outputs, conv_ksize, conv_strides, pool_ksize, pool_strides)\n",
    "    x_1 = conv2d_maxpool(x, 10, (6,6), (1,1), (2,2), (1,1))\n",
    "    x_1 = conv2d_maxpool(x_1, 60, (4,4), (1,1), (2,2), (1,1))\n",
    "    #x_1 = conv2d_maxpool(x_1, 80, (4,4), (1,1), (2,2), (1,1))\n",
    "    \n",
    "    \n",
    "    \n",
    "    # TODO: Apply a Flatten Layer\n",
    "    # Function Definition from Above:\n",
    "    #   flatten(x_tensor)\n",
    "    x_2 = flatten(x_1)\n",
    "\n",
    "    # TODO: Apply 1, 2, or 3 Fully Connected Layers\n",
    "    #    Play around with different number of outputs\n",
    "    # Function Definition from Above:\n",
    "    #   fully_conn(x_tensor, num_outputs)\n",
    "    x_3 = fully_conn(x_2, 760)\n",
    "    x_3 = tf.nn.dropout(x_3, keep_prob)\n",
    "    x_3 = fully_conn(x_3, 150)\n",
    "    x_3 = tf.nn.dropout(x_3, keep_prob)\n",
    "    #x_3 = fully_conn(x_3, 60)\n",
    "    #x_3 = tf.nn.dropout(x_3, keep_prob)\n",
    "\n",
    "    \n",
    "    # TODO: Apply an Output Layer\n",
    "    #    Set this to the number of classes\n",
    "    # Function Definition from Above:\n",
    "    #   output(x_tensor, num_outputs)\n",
    "    x_4 = output(x_3, 10)\n",
    "    \n",
    "    # TODO: return output\n",
    "    return x_4\n",
    "\n",
    "\n",
    "\"\"\"\n",
    "DON'T MODIFY ANYTHING IN THIS CELL THAT IS BELOW THIS LINE\n",
    "\"\"\"\n",
    "\n",
    "##############################\n",
    "## Build the Neural Network ##\n",
    "##############################\n",
    "\n",
    "# Remove previous weights, bias, inputs, etc..\n",
    "tf.reset_default_graph()\n",
    "\n",
    "# Inputs\n",
    "x = neural_net_image_input((32, 32, 3))\n",
    "y = neural_net_label_input(10)\n",
    "keep_prob = neural_net_keep_prob_input()\n",
    "\n",
    "# Model\n",
    "logits = conv_net(x, keep_prob)\n",
    "\n",
    "# Name logits Tensor, so that is can be loaded from disk after training\n",
    "logits = tf.identity(logits, name='logits')\n",
    "\n",
    "# Loss and Optimizer\n",
    "cost = tf.reduce_mean(tf.nn.softmax_cross_entropy_with_logits(logits=logits, labels=y))\n",
    "optimizer = tf.train.AdamOptimizer().minimize(cost)\n",
    "\n",
    "# Accuracy\n",
    "correct_pred = tf.equal(tf.argmax(logits, 1), tf.argmax(y, 1))\n",
    "accuracy = tf.reduce_mean(tf.cast(correct_pred, tf.float32), name='accuracy')\n",
    "\n",
    "tests.test_conv_net(conv_net)"
   ]
  },
  {
   "cell_type": "markdown",
   "metadata": {},
   "source": [
    "## Train the Neural Network\n",
    "### Single Optimization\n",
    "Implement the function `train_neural_network` to do a single optimization.  The optimization should use `optimizer` to optimize in `session` with a `feed_dict` of the following:\n",
    "* `x` for image input\n",
    "* `y` for labels\n",
    "* `keep_prob` for keep probability for dropout\n",
    "\n",
    "This function will be called for each batch, so `tf.global_variables_initializer()` has already been called.\n",
    "\n",
    "Note: Nothing needs to be returned. This function is only optimizing the neural network."
   ]
  },
  {
   "cell_type": "code",
   "execution_count": 18,
   "metadata": {},
   "outputs": [
    {
     "name": "stdout",
     "output_type": "stream",
     "text": [
      "Tests Passed\n"
     ]
    }
   ],
   "source": [
    "def train_neural_network(session, optimizer, keep_probability, feature_batch, label_batch):\n",
    "    \"\"\"\n",
    "    Optimize the session on a batch of images and labels\n",
    "    : session: Current TensorFlow session\n",
    "    : optimizer: TensorFlow optimizer function\n",
    "    : keep_probability: keep probability\n",
    "    : feature_batch: Batch of Numpy image data\n",
    "    : label_batch: Batch of Numpy label data\n",
    "    \"\"\"\n",
    "    # TODO: Implement Function\n",
    "    session.run(optimizer, feed_dict ={x: feature_batch, y: label_batch, \\\n",
    "                                       keep_prob: keep_probability})\n",
    "    pass\n",
    "\n",
    "\n",
    "\"\"\"\n",
    "DON'T MODIFY ANYTHING IN THIS CELL THAT IS BELOW THIS LINE\n",
    "\"\"\"\n",
    "tests.test_train_nn(train_neural_network)"
   ]
  },
  {
   "cell_type": "markdown",
   "metadata": {},
   "source": [
    "### Show Stats\n",
    "Implement the function `print_stats` to print loss and validation accuracy.  Use the global variables `valid_features` and `valid_labels` to calculate validation accuracy.  Use a keep probability of `1.0` to calculate the loss and validation accuracy."
   ]
  },
  {
   "cell_type": "code",
   "execution_count": 19,
   "metadata": {
    "collapsed": true
   },
   "outputs": [],
   "source": [
    "def print_stats(session, feature_batch, label_batch, cost, accuracy):\n",
    "    \"\"\"\n",
    "    Print information about loss and validation accuracy\n",
    "    : session: Current TensorFlow session\n",
    "    : feature_batch: Batch of Numpy image data\n",
    "    : label_batch: Batch of Numpy label data\n",
    "    : cost: TensorFlow cost function\n",
    "    : accuracy: TensorFlow accuracy function\n",
    "    \"\"\"\n",
    "    # TODO: Implement Function\n",
    "    #print (feature_batch[0])\n",
    "    batch_cost = session.run(cost, feed_dict={x: feature_batch, y: label_batch, keep_prob: 1})\n",
    "    batch_accuracy = session.run(accuracy, feed_dict={x: feature_batch, y: label_batch, \\\n",
    "                                                keep_prob: 1})\n",
    "    valid_cost = session.run(cost, feed_dict={x: valid_features, y: valid_labels, keep_prob: 1})\n",
    "    valid_accuracy = session.run(accuracy, feed_dict={x: valid_features, y: valid_labels, \\\n",
    "                                                keep_prob: 1})\n",
    "    print(\"batch cost: {:4.2f} batch accuracy: {:4.2f}%\\r\".format(batch_cost, batch_accuracy*100))  \n",
    "    print(\"valid cost: {:4.2f} valid accuracy: {:4.2f}%\\n\".format(valid_cost, valid_accuracy*100))\n",
    "    pass"
   ]
  },
  {
   "cell_type": "markdown",
   "metadata": {},
   "source": [
    "### Hyperparameters\n",
    "Tune the following parameters:\n",
    "* Set `epochs` to the number of iterations until the network stops learning or start overfitting\n",
    "* Set `batch_size` to the highest number that your machine has memory for.  Most people set them to common sizes of memory:\n",
    " * 64\n",
    " * 128\n",
    " * 256\n",
    " * ...\n",
    "* Set `keep_probability` to the probability of keeping a node using dropout"
   ]
  },
  {
   "cell_type": "code",
   "execution_count": 20,
   "metadata": {
    "collapsed": true
   },
   "outputs": [],
   "source": [
    "# TODO: Tune Parameters\n",
    "epochs = 70\n",
    "batch_size = 64\n",
    "keep_probability = 0.5"
   ]
  },
  {
   "cell_type": "markdown",
   "metadata": {},
   "source": [
    "### Train on a Single CIFAR-10 Batch\n",
    "Instead of training the neural network on all the CIFAR-10 batches of data, let's use a single batch. This should save time while you iterate on the model to get a better accuracy.  Once the final validation accuracy is 50% or greater, run the model on all the data in the next section."
   ]
  },
  {
   "cell_type": "code",
   "execution_count": null,
   "metadata": {},
   "outputs": [
    {
     "name": "stdout",
     "output_type": "stream",
     "text": [
      "Checking the Training on a Single Batch...\n",
      "Epoch  1, CIFAR-10 Batch 1:  batch cost: 424128.56 batch accuracy: 35.00%\n",
      "valid cost: 338221.94 valid accuracy: 32.74%\n",
      "\n",
      "Epoch  2, CIFAR-10 Batch 1:  batch cost: 213936.38 batch accuracy: 32.50%\n",
      "valid cost: 192152.08 valid accuracy: 35.94%\n",
      "\n"
     ]
    }
   ],
   "source": [
    "\"\"\"\n",
    "DON'T MODIFY ANYTHING IN THIS CELL\n",
    "\"\"\"\n",
    "print('Checking the Training on a Single Batch...')\n",
    "epochs=100\n",
    "with tf.Session() as sess:\n",
    "    # Initializing the variables\n",
    "    sess.run(tf.global_variables_initializer())\n",
    "    \n",
    "\n",
    "    # Training cycle\n",
    "    for epoch in range(epochs):\n",
    "        batch_i = 1\n",
    "        for batch_features, batch_labels in helper.load_preprocess_training_batch(batch_i, batch_size):\n",
    "            train_neural_network(sess, optimizer, keep_probability, batch_features, batch_labels)\n",
    "        print('Epoch {:>2}, CIFAR-10 Batch {}:  '.format(epoch + 1, batch_i), end='')\n",
    "        print_stats(sess, batch_features, batch_labels, cost, accuracy)\n",
    "        \n"
   ]
  },
  {
   "cell_type": "markdown",
   "metadata": {},
   "source": [
    "### Fully Train the Model\n",
    "Now that you got a good accuracy with a single CIFAR-10 batch, try it with all five batches."
   ]
  },
  {
   "cell_type": "code",
   "execution_count": 234,
   "metadata": {},
   "outputs": [
    {
     "name": "stdout",
     "output_type": "stream",
     "text": [
      "Training...\n",
      "Epoch  1, CIFAR-10 Batch 1:  batch cost: 1244618.62 batch accuracy: 11.63%\n",
      "valid cost: 1247436.25 valid accuracy: 12.12%\n",
      "\n",
      "Epoch  1, CIFAR-10 Batch 2:  batch cost: 738198.62 batch accuracy: 16.83%\n",
      "valid cost: 734122.88 valid accuracy: 17.88%\n",
      "\n",
      "Epoch  1, CIFAR-10 Batch 3:  batch cost: 571649.88 batch accuracy: 24.50%\n",
      "valid cost: 596618.00 valid accuracy: 22.40%\n",
      "\n",
      "Epoch  1, CIFAR-10 Batch 4:  batch cost: 502030.25 batch accuracy: 25.62%\n",
      "valid cost: 515997.66 valid accuracy: 25.52%\n",
      "\n",
      "Epoch  1, CIFAR-10 Batch 5:  batch cost: 472339.50 batch accuracy: 28.22%\n",
      "valid cost: 476181.31 valid accuracy: 28.52%\n",
      "\n",
      "Epoch  2, CIFAR-10 Batch 1:  batch cost: 391137.44 batch accuracy: 30.07%\n",
      "valid cost: 415518.50 valid accuracy: 29.86%\n",
      "\n",
      "Epoch  2, CIFAR-10 Batch 2:  batch cost: 385186.94 batch accuracy: 33.66%\n",
      "valid cost: 391950.25 valid accuracy: 31.34%\n",
      "\n",
      "Epoch  2, CIFAR-10 Batch 3:  batch cost: 357662.12 batch accuracy: 33.79%\n",
      "valid cost: 375185.22 valid accuracy: 31.32%\n",
      "\n",
      "Epoch  2, CIFAR-10 Batch 4:  batch cost: 340779.19 batch accuracy: 33.91%\n",
      "valid cost: 358876.81 valid accuracy: 33.08%\n",
      "\n",
      "Epoch  2, CIFAR-10 Batch 5:  batch cost: 328390.78 batch accuracy: 32.43%\n",
      "valid cost: 338329.69 valid accuracy: 31.74%\n",
      "\n",
      "Epoch  3, CIFAR-10 Batch 1:  batch cost: 303407.41 batch accuracy: 38.61%\n",
      "valid cost: 324643.47 valid accuracy: 34.70%\n",
      "\n",
      "Epoch  3, CIFAR-10 Batch 2:  batch cost: 288402.25 batch accuracy: 38.00%\n",
      "valid cost: 304924.91 valid accuracy: 34.78%\n",
      "\n",
      "Epoch  3, CIFAR-10 Batch 3:  batch cost: 278954.81 batch accuracy: 36.88%\n",
      "valid cost: 305869.69 valid accuracy: 34.42%\n",
      "\n",
      "Epoch  3, CIFAR-10 Batch 4:  batch cost: 268075.50 batch accuracy: 39.11%\n",
      "valid cost: 283054.75 valid accuracy: 36.64%\n",
      "\n",
      "Epoch  3, CIFAR-10 Batch 5:  batch cost: 261463.83 batch accuracy: 36.26%\n",
      "valid cost: 273748.22 valid accuracy: 36.48%\n",
      "\n",
      "Epoch  4, CIFAR-10 Batch 1:  batch cost: 237273.75 batch accuracy: 42.20%\n",
      "valid cost: 253267.34 valid accuracy: 38.20%\n",
      "\n",
      "Epoch  4, CIFAR-10 Batch 2:  batch cost: 225048.70 batch accuracy: 41.21%\n",
      "valid cost: 241331.53 valid accuracy: 38.48%\n",
      "\n",
      "Epoch  4, CIFAR-10 Batch 3:  batch cost: 214550.83 batch accuracy: 39.73%\n",
      "valid cost: 233593.25 valid accuracy: 38.92%\n",
      "\n",
      "Epoch  4, CIFAR-10 Batch 4:  batch cost: 215754.00 batch accuracy: 41.21%\n",
      "valid cost: 233547.34 valid accuracy: 38.56%\n",
      "\n",
      "Epoch  4, CIFAR-10 Batch 5:  batch cost: 210705.84 batch accuracy: 40.22%\n",
      "valid cost: 223744.56 valid accuracy: 39.42%\n",
      "\n",
      "Epoch  5, CIFAR-10 Batch 1:  batch cost: 200377.08 batch accuracy: 46.29%\n",
      "valid cost: 216601.73 valid accuracy: 40.50%\n",
      "\n",
      "Epoch  5, CIFAR-10 Batch 2:  batch cost: 187513.94 batch accuracy: 45.30%\n",
      "valid cost: 203630.47 valid accuracy: 41.08%\n",
      "\n",
      "Epoch  5, CIFAR-10 Batch 3:  batch cost: 190698.09 batch accuracy: 41.46%\n",
      "valid cost: 208486.72 valid accuracy: 40.78%\n",
      "\n",
      "Epoch  5, CIFAR-10 Batch 4:  batch cost: 177852.47 batch accuracy: 44.80%\n",
      "valid cost: 199017.12 valid accuracy: 41.86%\n",
      "\n",
      "Epoch  5, CIFAR-10 Batch 5:  batch cost: 172329.48 batch accuracy: 44.55%\n",
      "valid cost: 192215.52 valid accuracy: 41.64%\n",
      "\n",
      "Epoch  6, CIFAR-10 Batch 1:  batch cost: 178599.16 batch accuracy: 47.90%\n",
      "valid cost: 196631.77 valid accuracy: 42.46%\n",
      "\n",
      "Epoch  6, CIFAR-10 Batch 2:  batch cost: 166095.58 batch accuracy: 45.17%\n",
      "valid cost: 183694.25 valid accuracy: 41.64%\n",
      "\n",
      "Epoch  6, CIFAR-10 Batch 3:  batch cost: 167806.42 batch accuracy: 43.07%\n",
      "valid cost: 193833.64 valid accuracy: 41.66%\n",
      "\n",
      "Epoch  6, CIFAR-10 Batch 4:  batch cost: 161266.12 batch accuracy: 45.79%\n",
      "valid cost: 184057.53 valid accuracy: 42.22%\n",
      "\n",
      "Epoch  6, CIFAR-10 Batch 5:  batch cost: 160660.33 batch accuracy: 45.54%\n",
      "valid cost: 183624.25 valid accuracy: 42.32%\n",
      "\n",
      "Epoch  7, CIFAR-10 Batch 1:  batch cost: 151403.19 batch accuracy: 49.01%\n",
      "valid cost: 171437.34 valid accuracy: 43.66%\n",
      "\n",
      "Epoch  7, CIFAR-10 Batch 2:  batch cost: 145992.33 batch accuracy: 47.52%\n",
      "valid cost: 165128.47 valid accuracy: 43.32%\n",
      "\n",
      "Epoch  7, CIFAR-10 Batch 3:  batch cost: 143493.72 batch accuracy: 46.91%\n",
      "valid cost: 164181.22 valid accuracy: 44.32%\n",
      "\n",
      "Epoch  7, CIFAR-10 Batch 4:  batch cost: 140125.45 batch accuracy: 48.14%\n",
      "valid cost: 163824.70 valid accuracy: 43.72%\n",
      "\n",
      "Epoch  7, CIFAR-10 Batch 5:  batch cost: 134871.31 batch accuracy: 47.52%\n",
      "valid cost: 158757.36 valid accuracy: 43.88%\n",
      "\n",
      "Epoch  8, CIFAR-10 Batch 1:  batch cost: 141498.28 batch accuracy: 49.63%\n",
      "valid cost: 162650.02 valid accuracy: 44.64%\n",
      "\n",
      "Epoch  8, CIFAR-10 Batch 2:  batch cost: 134595.72 batch accuracy: 48.02%\n",
      "valid cost: 154026.38 valid accuracy: 44.34%\n",
      "\n",
      "Epoch  8, CIFAR-10 Batch 3:  batch cost: 133815.14 batch accuracy: 47.28%\n",
      "valid cost: 158338.50 valid accuracy: 44.82%\n",
      "\n",
      "Epoch  8, CIFAR-10 Batch 4:  batch cost: 121715.44 batch accuracy: 49.50%\n",
      "valid cost: 145597.91 valid accuracy: 45.36%\n",
      "\n",
      "Epoch  8, CIFAR-10 Batch 5:  batch cost: 118775.89 batch accuracy: 49.63%\n",
      "valid cost: 141567.48 valid accuracy: 45.50%\n",
      "\n",
      "Epoch  9, CIFAR-10 Batch 1:  batch cost: 123459.41 batch accuracy: 51.24%\n",
      "valid cost: 142360.02 valid accuracy: 45.62%\n",
      "\n",
      "Epoch  9, CIFAR-10 Batch 2:  batch cost: 119446.59 batch accuracy: 50.50%\n",
      "valid cost: 138095.59 valid accuracy: 46.16%\n",
      "\n",
      "Epoch  9, CIFAR-10 Batch 3:  batch cost: 115844.18 batch accuracy: 49.13%\n",
      "valid cost: 138807.09 valid accuracy: 45.48%\n",
      "\n",
      "Epoch  9, CIFAR-10 Batch 4:  batch cost: 110231.70 batch accuracy: 51.24%\n",
      "valid cost: 132900.83 valid accuracy: 46.70%\n",
      "\n",
      "Epoch  9, CIFAR-10 Batch 5:  batch cost: 109555.75 batch accuracy: 50.37%\n",
      "valid cost: 132493.98 valid accuracy: 46.10%\n",
      "\n",
      "Epoch 10, CIFAR-10 Batch 1:  batch cost: 113231.29 batch accuracy: 52.10%\n",
      "valid cost: 133062.97 valid accuracy: 46.72%\n",
      "\n",
      "Epoch 10, CIFAR-10 Batch 2:  batch cost: 108562.73 batch accuracy: 50.87%\n",
      "valid cost: 128534.38 valid accuracy: 46.56%\n",
      "\n",
      "Epoch 10, CIFAR-10 Batch 3:  batch cost: 103604.52 batch accuracy: 50.00%\n",
      "valid cost: 129093.70 valid accuracy: 46.60%\n",
      "\n",
      "Epoch 10, CIFAR-10 Batch 4:  batch cost: 100687.02 batch accuracy: 52.72%\n",
      "valid cost: 125777.04 valid accuracy: 46.88%\n",
      "\n",
      "Epoch 10, CIFAR-10 Batch 5:  batch cost: 99178.43 batch accuracy: 53.34%\n",
      "valid cost: 123688.09 valid accuracy: 46.40%\n",
      "\n",
      "Epoch 11, CIFAR-10 Batch 1:  batch cost: 103701.80 batch accuracy: 52.48%\n",
      "valid cost: 124009.09 valid accuracy: 47.34%\n",
      "\n",
      "Epoch 11, CIFAR-10 Batch 2:  batch cost: 98915.90 batch accuracy: 52.60%\n",
      "valid cost: 118880.38 valid accuracy: 46.74%\n",
      "\n",
      "Epoch 11, CIFAR-10 Batch 3:  batch cost: 92813.63 batch accuracy: 52.60%\n",
      "valid cost: 119507.09 valid accuracy: 47.20%\n",
      "\n",
      "Epoch 11, CIFAR-10 Batch 4:  batch cost: 92715.71 batch accuracy: 54.46%\n",
      "valid cost: 115607.41 valid accuracy: 47.70%\n",
      "\n",
      "Epoch 11, CIFAR-10 Batch 5:  batch cost: 87153.33 batch accuracy: 53.59%\n",
      "valid cost: 111378.81 valid accuracy: 48.28%\n",
      "\n",
      "Epoch 12, CIFAR-10 Batch 1:  batch cost: 93530.12 batch accuracy: 54.58%\n",
      "valid cost: 112760.19 valid accuracy: 48.24%\n",
      "\n",
      "Epoch 12, CIFAR-10 Batch 2:  batch cost: 88791.16 batch accuracy: 54.46%\n",
      "valid cost: 109813.54 valid accuracy: 47.74%\n",
      "\n",
      "Epoch 12, CIFAR-10 Batch 3:  batch cost: 82652.84 batch accuracy: 53.47%\n",
      "valid cost: 110444.67 valid accuracy: 48.16%\n",
      "\n",
      "Epoch 12, CIFAR-10 Batch 4:  batch cost: 85017.86 batch accuracy: 55.69%\n",
      "valid cost: 106779.30 valid accuracy: 48.56%\n",
      "\n",
      "Epoch 12, CIFAR-10 Batch 5:  batch cost: 83004.40 batch accuracy: 56.68%\n",
      "valid cost: 107933.60 valid accuracy: 48.20%\n",
      "\n",
      "Epoch 13, CIFAR-10 Batch 1:  batch cost: 85521.03 batch accuracy: 55.82%\n",
      "valid cost: 105960.12 valid accuracy: 48.84%\n",
      "\n",
      "Epoch 13, CIFAR-10 Batch 2:  batch cost: 87184.05 batch accuracy: 54.83%\n",
      "valid cost: 106386.27 valid accuracy: 48.22%\n",
      "\n",
      "Epoch 13, CIFAR-10 Batch 3:  batch cost: 75208.70 batch accuracy: 54.95%\n",
      "valid cost: 103319.23 valid accuracy: 49.16%\n",
      "\n",
      "Epoch 13, CIFAR-10 Batch 4:  batch cost: 80627.77 batch accuracy: 55.94%\n",
      "valid cost: 102440.74 valid accuracy: 48.80%\n",
      "\n",
      "Epoch 13, CIFAR-10 Batch 5:  batch cost: 78591.62 batch accuracy: 56.44%\n",
      "valid cost: 102141.27 valid accuracy: 48.96%\n",
      "\n",
      "Epoch 14, CIFAR-10 Batch 1:  batch cost: 81716.63 batch accuracy: 55.07%\n",
      "valid cost: 102275.62 valid accuracy: 48.54%\n",
      "\n",
      "Epoch 14, CIFAR-10 Batch 2:  batch cost: 77545.32 batch accuracy: 56.68%\n",
      "valid cost: 98216.01 valid accuracy: 49.62%\n",
      "\n",
      "Epoch 14, CIFAR-10 Batch 3:  batch cost: 71309.88 batch accuracy: 55.32%\n",
      "valid cost: 97125.93 valid accuracy: 49.94%\n",
      "\n",
      "Epoch 14, CIFAR-10 Batch 4:  batch cost: 72375.81 batch accuracy: 56.68%\n",
      "valid cost: 96279.77 valid accuracy: 49.42%\n",
      "\n"
     ]
    },
    {
     "name": "stdout",
     "output_type": "stream",
     "text": [
      "Epoch 14, CIFAR-10 Batch 5:  batch cost: 69173.11 batch accuracy: 57.18%\n",
      "valid cost: 94340.87 valid accuracy: 49.92%\n",
      "\n",
      "Epoch 15, CIFAR-10 Batch 1:  batch cost: 74985.33 batch accuracy: 57.80%\n",
      "valid cost: 93985.89 valid accuracy: 49.40%\n",
      "\n",
      "Epoch 15, CIFAR-10 Batch 2:  batch cost: 73196.62 batch accuracy: 56.68%\n",
      "valid cost: 92638.95 valid accuracy: 49.72%\n",
      "\n",
      "Epoch 15, CIFAR-10 Batch 3:  batch cost: 64767.50 batch accuracy: 57.05%\n",
      "valid cost: 91552.32 valid accuracy: 49.98%\n",
      "\n",
      "Epoch 15, CIFAR-10 Batch 4:  batch cost: 65577.34 batch accuracy: 58.17%\n",
      "valid cost: 89984.67 valid accuracy: 49.92%\n",
      "\n",
      "Epoch 15, CIFAR-10 Batch 5:  batch cost: 63469.71 batch accuracy: 57.67%\n",
      "valid cost: 88489.54 valid accuracy: 49.92%\n",
      "\n",
      "Epoch 16, CIFAR-10 Batch 1:  batch cost: 70428.91 batch accuracy: 56.56%\n",
      "valid cost: 91163.67 valid accuracy: 49.80%\n",
      "\n",
      "Epoch 16, CIFAR-10 Batch 2:  batch cost: 66597.98 batch accuracy: 57.55%\n",
      "valid cost: 86289.41 valid accuracy: 50.02%\n",
      "\n",
      "Epoch 16, CIFAR-10 Batch 3:  batch cost: 62199.50 batch accuracy: 56.81%\n",
      "valid cost: 89148.66 valid accuracy: 49.78%\n",
      "\n",
      "Epoch 16, CIFAR-10 Batch 4:  batch cost: 60125.30 batch accuracy: 58.54%\n",
      "valid cost: 84028.83 valid accuracy: 50.30%\n",
      "\n",
      "Epoch 16, CIFAR-10 Batch 5:  batch cost: 60675.04 batch accuracy: 59.41%\n",
      "valid cost: 85550.09 valid accuracy: 50.48%\n",
      "\n",
      "Epoch 17, CIFAR-10 Batch 1:  batch cost: 66112.71 batch accuracy: 58.91%\n",
      "valid cost: 85666.55 valid accuracy: 49.76%\n",
      "\n",
      "Epoch 17, CIFAR-10 Batch 2:  batch cost: 63039.72 batch accuracy: 58.79%\n",
      "valid cost: 82324.87 valid accuracy: 50.60%\n",
      "\n",
      "Epoch 17, CIFAR-10 Batch 3:  batch cost: 55671.66 batch accuracy: 57.67%\n",
      "valid cost: 82163.27 valid accuracy: 50.48%\n",
      "\n",
      "Epoch 17, CIFAR-10 Batch 4:  batch cost: 56875.30 batch accuracy: 56.81%\n",
      "valid cost: 81725.72 valid accuracy: 50.80%\n",
      "\n",
      "Epoch 17, CIFAR-10 Batch 5:  batch cost: 55275.34 batch accuracy: 60.27%\n",
      "valid cost: 79928.52 valid accuracy: 50.58%\n",
      "\n",
      "Epoch 18, CIFAR-10 Batch 1:  batch cost: 61088.51 batch accuracy: 58.04%\n",
      "valid cost: 82515.96 valid accuracy: 50.52%\n",
      "\n",
      "Epoch 18, CIFAR-10 Batch 2:  batch cost: 61876.81 batch accuracy: 59.78%\n",
      "valid cost: 79766.66 valid accuracy: 50.50%\n",
      "\n",
      "Epoch 18, CIFAR-10 Batch 3:  batch cost: 51712.13 batch accuracy: 59.03%\n",
      "valid cost: 79706.84 valid accuracy: 50.96%\n",
      "\n",
      "Epoch 18, CIFAR-10 Batch 4:  batch cost: 55689.32 batch accuracy: 59.41%\n",
      "valid cost: 78654.41 valid accuracy: 50.56%\n",
      "\n",
      "Epoch 18, CIFAR-10 Batch 5:  batch cost: 53184.91 batch accuracy: 59.41%\n",
      "valid cost: 78105.20 valid accuracy: 50.70%\n",
      "\n",
      "Epoch 19, CIFAR-10 Batch 1:  batch cost: 58541.65 batch accuracy: 58.42%\n",
      "valid cost: 77504.99 valid accuracy: 50.88%\n",
      "\n",
      "Epoch 19, CIFAR-10 Batch 2:  batch cost: 56744.82 batch accuracy: 60.02%\n",
      "valid cost: 76012.20 valid accuracy: 50.96%\n",
      "\n",
      "Epoch 19, CIFAR-10 Batch 3:  batch cost: 47525.02 batch accuracy: 58.42%\n",
      "valid cost: 73776.00 valid accuracy: 51.70%\n",
      "\n",
      "Epoch 19, CIFAR-10 Batch 4:  batch cost: 50677.30 batch accuracy: 59.28%\n",
      "valid cost: 74632.20 valid accuracy: 51.18%\n",
      "\n",
      "Epoch 19, CIFAR-10 Batch 5:  batch cost: 48212.31 batch accuracy: 61.39%\n",
      "valid cost: 72460.70 valid accuracy: 51.20%\n",
      "\n",
      "Epoch 20, CIFAR-10 Batch 1:  batch cost: 52596.88 batch accuracy: 60.27%\n",
      "valid cost: 72622.76 valid accuracy: 51.36%\n",
      "\n",
      "Epoch 20, CIFAR-10 Batch 2:  batch cost: 52411.32 batch accuracy: 61.01%\n",
      "valid cost: 71421.53 valid accuracy: 51.14%\n",
      "\n",
      "Epoch 20, CIFAR-10 Batch 3:  batch cost: 45011.16 batch accuracy: 61.14%\n",
      "valid cost: 70981.89 valid accuracy: 51.46%\n",
      "\n",
      "Epoch 20, CIFAR-10 Batch 4:  batch cost: 46291.30 batch accuracy: 59.53%\n",
      "valid cost: 70353.22 valid accuracy: 51.50%\n",
      "\n",
      "Epoch 20, CIFAR-10 Batch 5:  batch cost: 44435.20 batch accuracy: 60.27%\n",
      "valid cost: 69128.23 valid accuracy: 52.00%\n",
      "\n"
     ]
    }
   ],
   "source": [
    "\"\"\"\n",
    "DON'T MODIFY ANYTHING IN THIS CELL\n",
    "\"\"\"\n",
    "save_model_path = './image_classification'\n",
    "epochs=20\n",
    "print('Training...')\n",
    "with tf.Session() as sess:\n",
    "    # Initializing the variables\n",
    "    sess.run(tf.global_variables_initializer())\n",
    "    \n",
    "    # Training cycle\n",
    "    for epoch in range(epochs):\n",
    "        # Loop over all batches\n",
    "        n_batches = 5\n",
    "        for batch_i in range(1, n_batches + 1):\n",
    "            for batch_features, batch_labels in helper.load_preprocess_training_batch(batch_i, batch_size):\n",
    "                train_neural_network(sess, optimizer, keep_probability, batch_features, batch_labels)\n",
    "            print('Epoch {:>2}, CIFAR-10 Batch {}:  '.format(epoch + 1, batch_i), end='')\n",
    "            print_stats(sess, batch_features, batch_labels, cost, accuracy)\n",
    "                # Save Model\n",
    "    saver = tf.train.Saver()\n",
    "    save_path = saver.save(sess, save_model_path)\n"
   ]
  },
  {
   "cell_type": "markdown",
   "metadata": {},
   "source": [
    "# Checkpoint\n",
    "The model has been saved to disk.\n",
    "## Test Model\n",
    "Test your model against the test dataset.  This will be your final accuracy. You should have an accuracy greater than 50%. If you don't, keep tweaking the model architecture and parameters."
   ]
  },
  {
   "cell_type": "code",
   "execution_count": 235,
   "metadata": {},
   "outputs": [
    {
     "name": "stdout",
     "output_type": "stream",
     "text": [
      "INFO:tensorflow:Restoring parameters from ./image_classification\n",
      "Testing Accuracy: 0.5179938077926636\n",
      "\n"
     ]
    },
    {
     "data": {
      "image/png": "[encoded data removed]",
      "text/plain": [
       "<matplotlib.figure.Figure at 0x7f0387d3aef0>"
      ]
     },
     "metadata": {
      "image/png": {
       "height": 319,
       "width": 349
      }
     },
     "output_type": "display_data"
    }
   ],
   "source": [
    "\"\"\"\n",
    "DON'T MODIFY ANYTHING IN THIS CELL\n",
    "\"\"\"\n",
    "%matplotlib inline\n",
    "%config InlineBackend.figure_format = 'retina'\n",
    "\n",
    "import tensorflow as tf\n",
    "import pickle\n",
    "import helper\n",
    "import random\n",
    "\n",
    "# Set batch size if not already set\n",
    "try:\n",
    "    if batch_size:\n",
    "        pass\n",
    "except NameError:\n",
    "    batch_size = 64\n",
    "\n",
    "save_model_path = './image_classification'\n",
    "n_samples = 4\n",
    "top_n_predictions = 3\n",
    "\n",
    "def test_model():\n",
    "    \"\"\"\n",
    "    Test the saved model against the test dataset\n",
    "    \"\"\"\n",
    "\n",
    "    test_features, test_labels = pickle.load(open('preprocess_test.p', mode='rb'))\n",
    "    loaded_graph = tf.Graph()\n",
    "\n",
    "    with tf.Session(graph=loaded_graph) as sess:\n",
    "        # Load model\n",
    "        loader = tf.train.import_meta_graph(save_model_path + '.meta')\n",
    "        loader.restore(sess, save_model_path)\n",
    "\n",
    "        # Get Tensors from loaded model\n",
    "        loaded_x = loaded_graph.get_tensor_by_name('x:0')\n",
    "        loaded_y = loaded_graph.get_tensor_by_name('y:0')\n",
    "        loaded_keep_prob = loaded_graph.get_tensor_by_name('keep_prob:0')\n",
    "        loaded_logits = loaded_graph.get_tensor_by_name('logits:0')\n",
    "        loaded_acc = loaded_graph.get_tensor_by_name('accuracy:0')\n",
    "        \n",
    "        # Get accuracy in batches for memory limitations\n",
    "        test_batch_acc_total = 0\n",
    "        test_batch_count = 0\n",
    "        \n",
    "        for test_feature_batch, test_label_batch in helper.batch_features_labels(test_features, test_labels, batch_size):\n",
    "            test_batch_acc_total += sess.run(\n",
    "                loaded_acc,\n",
    "                feed_dict={loaded_x: test_feature_batch, loaded_y: test_label_batch, loaded_keep_prob: 1.0})\n",
    "            test_batch_count += 1\n",
    "\n",
    "        print('Testing Accuracy: {}\\n'.format(test_batch_acc_total/test_batch_count))\n",
    "\n",
    "        # Print Random Samples\n",
    "        random_test_features, random_test_labels = tuple(zip(*random.sample(list(zip(test_features, test_labels)), n_samples)))\n",
    "        random_test_predictions = sess.run(\n",
    "            tf.nn.top_k(tf.nn.softmax(loaded_logits), top_n_predictions),\n",
    "            feed_dict={loaded_x: random_test_features, loaded_y: random_test_labels, loaded_keep_prob: 1.0})\n",
    "        helper.display_image_predictions(random_test_features, random_test_labels, random_test_predictions)\n",
    "\n",
    "\n",
    "test_model()"
   ]
  },
  {
   "cell_type": "markdown",
   "metadata": {},
   "source": [
    "## Why 50-80% Accuracy?\n",
    "You might be wondering why you can't get an accuracy any higher. First things first, 50% isn't bad for a simple CNN.  Pure guessing would get you 10% accuracy. However, you might notice people are getting scores [well above 80%](http://rodrigob.github.io/are_we_there_yet/build/classification_datasets_results.html#43494641522d3130).  That's because we haven't taught you all there is to know about neural networks. We still need to cover a few more techniques.\n",
    "## Submitting This Project\n",
    "When submitting this project, make sure to run all the cells before saving the notebook.  Save the notebook file as \"dlnd_image_classification.ipynb\" and save it as a HTML file under \"File\" -> \"Download as\".  Include the \"helper.py\" and \"problem_unittests.py\" files in your submission."
   ]
  },
  {
   "cell_type": "code",
   "execution_count": null,
   "metadata": {
    "collapsed": true
   },
   "outputs": [],
   "source": []
  }
 ],
 "metadata": {
  "kernelspec": {
   "display_name": "Python 3",
   "language": "python",
   "name": "python3"
  },
  "language_info": {
   "codemirror_mode": {
    "name": "ipython",
    "version": 3
   },
   "file_extension": ".py",
   "mimetype": "text/x-python",
   "name": "python",
   "nbconvert_exporter": "python",
   "pygments_lexer": "ipython3",
   "version": "3.6.3"
  }
 },
 "nbformat": 4,
 "nbformat_minor": 1
}
